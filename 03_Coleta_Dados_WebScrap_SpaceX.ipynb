{
  "nbformat": 4,
  "nbformat_minor": 0,
  "metadata": {
    "colab": {
      "provenance": []
    },
    "kernelspec": {
      "name": "python3",
      "display_name": "Python 3"
    },
    "language_info": {
      "name": "python"
    }
  },
  "cells": [
    {
      "cell_type": "markdown",
      "source": [
        "# <center> **Web Scraping** </center>"
      ],
      "metadata": {
        "id": "gswWT_3Fg_na"
      }
    },
    {
      "cell_type": "markdown",
      "source": [
        "![](https://cf-courses-data.s3.us.cloud-object-storage.appdomain.cloud/IBM-DS0321EN-SkillsNetwork/labs/module_1_L2/images/Falcon9_rocket_family.svg)"
      ],
      "metadata": {
        "id": "QVCMjhc9h-Y1"
      }
    },
    {
      "cell_type": "markdown",
      "source": [
        "Nesta etapa será realizado a tecnica de web scraping, para coletar dados históricos de 2010 a 2020, registrados em formato tabular, com informações dos lançamentos do foguete Falcon 9, de uma página da Wikipedia intitulada ``List of Falcon 9 and Falcon Heavy launches``.\n",
        "\n",
        "link:\n",
        "\n",
        "https://en.wikipedia.org/wiki/List_of_Falcon_9_and_Falcon_Heavy_launches\n",
        "\n",
        "\n",
        "Os dados a seram extraidos das tabelas, são os pertencentes as seguintes variaveis: ``Date and time(UTC)``, ``Version Booster``, ``Launch site``, ``Payload``, ``Payload mass``, ``Orbir``, ``Customer``, ``Launch outcome`` e ``Booster landing``\n",
        "\n",
        "Abaixo segue uma amostra ilustrativa, de uma das tabelas a qual seram raspados os dados, e em seguida estrutados."
      ],
      "metadata": {
        "id": "grs1qnM8h0r0"
      }
    },
    {
      "cell_type": "markdown",
      "source": [
        "![](https://cf-courses-data.s3.us.cloud-object-storage.appdomain.cloud/IBM-DS0321EN-SkillsNetwork/labs/module_1_L2/images/falcon9-launches-wiki.png)"
      ],
      "metadata": {
        "id": "Dt1vtCAmhtZc"
      }
    },
    {
      "cell_type": "markdown",
      "source": [
        "### **Objetivos**\n",
        "\n",
        "* Web scrap dos registros das tabelas HTML de lançamento do Falcon 9, que constam publicadas na Wikipedia.\n",
        "\n",
        "* Analisar a tabela e converte la em um quadro de dados Pandas Dataframe."
      ],
      "metadata": {
        "id": "5F0eddE3jDV5"
      }
    },
    {
      "cell_type": "code",
      "execution_count": 255,
      "metadata": {
        "id": "8XxgOOinby-N"
      },
      "outputs": [],
      "source": [
        "import sys\n",
        "import requests\n",
        "from bs4 import BeautifulSoup\n",
        "import re\n",
        "import unicodedata\n",
        "import pandas as pd\n",
        "import warnings\n",
        "warnings.filterwarnings('ignore')"
      ]
    },
    {
      "cell_type": "markdown",
      "source": [
        "Formulando funções que iram auxiliar ao processar as tabelas HTML na raspagem de dados"
      ],
      "metadata": {
        "id": "t-sncIbJkIn2"
      }
    },
    {
      "cell_type": "code",
      "source": [
        "def date_time(table_cells):\n",
        "    \"\"\"\n",
        "    Esta função Extrai dos dados da coluna de data e tempo(Date and time) da tabela HTML\n",
        "    \"\"\"\n",
        "    return [data_time.strip() for data_time in list(table_cells.strings)][0:2]"
      ],
      "metadata": {
        "id": "U68LlLSXjrJ6"
      },
      "execution_count": 256,
      "outputs": []
    },
    {
      "cell_type": "code",
      "source": [
        "def booster_version(table_cells):\n",
        "    \"\"\"\n",
        "    Esta função extrai os dados da coluna version booster da tabela HTML\n",
        "    \"\"\"\n",
        "    out=''.join([booster_version for i,booster_version in enumerate( table_cells.strings) if i%2==0][0:-1])\n",
        "    return out"
      ],
      "metadata": {
        "id": "ENQuqzX0mBMh"
      },
      "execution_count": 257,
      "outputs": []
    },
    {
      "cell_type": "code",
      "source": [
        "def landing_status(table_cells):\n",
        "    '''\n",
        "    Esta função extrai os dados da coluna landing status da tabela HTML\n",
        "    '''\n",
        "    out = [i for i in table_cells.strings][0]\n",
        "    return out"
      ],
      "metadata": {
        "id": "z13BSWbQnNaE"
      },
      "execution_count": 258,
      "outputs": []
    },
    {
      "cell_type": "code",
      "source": [
        "def get_mass(table_cells):\n",
        "    mass=unicodedata.normalize(\"NFKD\", table_cells.text).strip()\n",
        "    if mass:\n",
        "        mass.find(\"kg\")\n",
        "        new_mass=mass[0:mass.find(\"kg\")+2]\n",
        "    else:\n",
        "        new_mass=0\n",
        "    return new_mass"
      ],
      "metadata": {
        "id": "9uNnmjv_nWgQ"
      },
      "execution_count": 259,
      "outputs": []
    },
    {
      "cell_type": "code",
      "source": [
        "def extract_column_from_header(row):\n",
        "    '''\n",
        "   Esta função extrai outros dados referente a coluna landing status da tabela HTML\n",
        "    '''\n",
        "    if row.br:\n",
        "        row.br.extract()\n",
        "    if row.a:\n",
        "        row.a.extract()\n",
        "    if row.sup:\n",
        "        row.sup.extract()\n",
        "\n",
        "    column_name = ' '.join(row.contents)\n",
        "\n",
        "    # Filtrar os dígitos e nomes vazios\n",
        "    if not(column_name.strip().isdigit()):\n",
        "        column_name = column_name.strip()\n",
        "        return column_name"
      ],
      "metadata": {
        "id": "9fTrZIwwn6qN"
      },
      "execution_count": 260,
      "outputs": []
    },
    {
      "cell_type": "code",
      "source": [
        "# Endereço da URL para requisitar conteudo HMTL\n",
        "static_url = \"https://en.wikipedia.org/w/index.php?title=List_of_Falcon_9_and_Falcon_Heavy_launches&oldid=1027686922\"\n",
        "\n",
        "# Objeto HTTP para solicitação de conteudo HTML\n",
        "response = requests.get(static_url)\n",
        "print(response.status_code,\n",
        "      ' <--- 200 = OK')\n",
        "\n",
        "# Objeto BeautifulSoup para aplicação em conteudos HTML\n",
        "soup = BeautifulSoup(response.text,\n",
        "                     'html.parser')"
      ],
      "metadata": {
        "id": "K1tFYIStpfQH",
        "colab": {
          "base_uri": "https://localhost:8080/"
        },
        "outputId": "b3ec5a66-eac4-440f-d3d9-27bd80c0aa39"
      },
      "execution_count": 261,
      "outputs": [
        {
          "output_type": "stream",
          "name": "stdout",
          "text": [
            "200  <--- 200 = OK\n"
          ]
        }
      ]
    },
    {
      "cell_type": "markdown",
      "source": [
        "Imprima o título da página para verificar se o objeto BeautifulSoup foi criado corretamente"
      ],
      "metadata": {
        "id": "jm6724JZsTxU"
      }
    },
    {
      "cell_type": "code",
      "source": [
        "# Utilizar o comando .title\n",
        "soup.title"
      ],
      "metadata": {
        "id": "WoL0LcBwtrPp",
        "colab": {
          "base_uri": "https://localhost:8080/"
        },
        "outputId": "5cab9817-ffd6-45ce-dca8-d3f34717f66f"
      },
      "execution_count": 262,
      "outputs": [
        {
          "output_type": "execute_result",
          "data": {
            "text/plain": [
              "<title>List of Falcon 9 and Falcon Heavy launches - Wikipedia</title>"
            ]
          },
          "metadata": {},
          "execution_count": 262
        }
      ]
    },
    {
      "cell_type": "markdown",
      "source": [
        "### Capturar todos os nomes de colunas/variáveis ​​do cabeçalho da tabela HTML como exemplificado pela ilustração acima"
      ],
      "metadata": {
        "id": "bApCtP2ZtpLJ"
      }
    },
    {
      "cell_type": "code",
      "source": [
        "# Obter os nomes de identificação das variaveis que constam no cabeçalho das tabelas\n",
        "html_tables = soup.find_all('table')\n",
        "\n",
        "# Selecionada a tabela para extrair os nomes\n",
        "launch_table = html_tables[2]"
      ],
      "metadata": {
        "id": "cq4jGlr-sr22",
        "collapsed": true
      },
      "execution_count": 263,
      "outputs": []
    },
    {
      "cell_type": "markdown",
      "source": [
        "Em seguida, se faz necessário apenas iterar pelos elementos ``<th>`` e aplicar a função **extract_column_from_header()** para extrair o nome das colunas uma por uma"
      ],
      "metadata": {
        "id": "Ga7D6fLpb7M4"
      }
    },
    {
      "cell_type": "code",
      "source": [
        "# Armazena os nomes das colunas\n",
        "columns = []\n",
        "\n",
        "# Aplica o comando find_all() no elemento ``th``\n",
        "headers = launch_table.find_all('th')\n",
        "\n",
        "# Iterar cada elemento ``th`` a função ``extract_column_from_header()`` para obter os nomes\n",
        "for header in headers:\n",
        "    column = extract_column_from_header(header)\n",
        "\n",
        "    # Evitar possivel erro a e captura de nulos/ausentes\n",
        "    if column is not None and len(column) > 0:\n",
        "        columns.append(column)\n",
        "\n",
        "# Autenticando o exito do procediento\n",
        "print(columns)"
      ],
      "metadata": {
        "colab": {
          "base_uri": "https://localhost:8080/"
        },
        "id": "Rubx5Zkacc_9",
        "outputId": "2d475888-c6a9-4d12-b946-c2229fbe005c"
      },
      "execution_count": 264,
      "outputs": [
        {
          "output_type": "stream",
          "name": "stdout",
          "text": [
            "['Flight No.', 'Date and time ( )', 'Launch site', 'Payload', 'Payload mass', 'Orbit', 'Customer', 'Launch outcome']\n"
          ]
        }
      ]
    },
    {
      "cell_type": "markdown",
      "source": [
        "Criar uma nova estrutura de dados, com as tabelas HTML, um dicionário vazio,  como chave nesse dicionario, os nomes de colunas extraídos. Esse dicionário será convertido em um pandas dataframe"
      ],
      "metadata": {
        "id": "gRxSkg_t34bC"
      }
    },
    {
      "cell_type": "code",
      "source": [
        "# Inicializando o dicionario com as chaves\n",
        "launch_dict = dict.fromkeys(columns)\n",
        "\n",
        "# Remover uma coluna irrelevante\n",
        "del launch_dict['Date and time ( )']\n",
        "\n",
        "# Vamos inicializar o launch_dict com cada valor para ser uma lista vazia\n",
        "launch_dict['Flight No.'] = []\n",
        "launch_dict['Launch site'] = []\n",
        "launch_dict['Payload'] = []\n",
        "launch_dict['Payload mass'] = []\n",
        "launch_dict['Orbit'] = []\n",
        "launch_dict['Customer'] = []\n",
        "launch_dict['Launch outcome'] = []\n",
        "\n",
        "# Adicionadas algumas novas colunas\n",
        "launch_dict['Version Booster']=[]\n",
        "launch_dict['Booster landing']=[]\n",
        "launch_dict['Date']=[]\n",
        "launch_dict['Time']=[]"
      ],
      "metadata": {
        "id": "ed6kN9fW46VE"
      },
      "execution_count": 265,
      "outputs": []
    },
    {
      "cell_type": "markdown",
      "source": [
        "Em seguida, é preciso apenas preencher o dicionario ``launch_dict`` com registros de lançamento extraídos de linhas de tabela HTML.\n",
        "\n",
        "Normalmente, raspagem de dados em paginas HTML, podem provavelmente conter dados inesperadas e outros tipos de ruídos, insconsistencias e valores ausentes"
      ],
      "metadata": {
        "id": "y4mRtJpY9RZ1"
      }
    },
    {
      "cell_type": "code",
      "source": [
        "extracted_row = 0\n",
        "\n",
        "# Itera em cada tabela HTML existente na pagina\n",
        "for table_number, table in enumerate(soup.find_all('table', 'wikitable plainrowheaders collapsible')):\n",
        "\n",
        "  # Itera com cada linha da tabela HTML\n",
        "  for rows in table.find_all('tr'):\n",
        "\n",
        "        # Captura somente os valores que correspondem ao numero de voo ``Flight No.``\n",
        "        if rows.th:\n",
        "           if rows.th.string:\n",
        "                flight_number = rows.th.string.strip()\n",
        "                flag = flight_number.isdigit()\n",
        "        else:\n",
        "            flag = False\n",
        "\n",
        "        # Captura todos os elementos que correspondem a tag \"td\" da tabela HTML\n",
        "        row=rows.find_all('td')\n",
        "\n",
        "        ## Extrai os dados capturados referente a tag \"td\" e salvaas em um dicionário\n",
        "        if flag:\n",
        "            extracted_row += 1\n",
        "\n",
        "            # Adiciona os dados de Flight No. ao dicionario launch_dict\n",
        "            launch_dict['Flight No.'].append(flight_number)\n",
        "            #print(flight_number)\n",
        "            datatimelist=date_time(row[0])\n",
        "\n",
        "            # Adiciona os dados de launch site ao dicionario launch_dict\n",
        "            launch_site = row[2].a.string\n",
        "            launch_dict['Launch site'].append(launch_site)\n",
        "\n",
        "            # Adiciona os dados de payload ao dicionario launch_dict\n",
        "            payload = row[3].a.string\n",
        "            launch_dict['Payload'].append(payload)\n",
        "            #print(payload)\n",
        "\n",
        "            # Adiciona os dados de payload mass ao dicionario launch_dict\n",
        "            payload_mass = get_mass(row[4])\n",
        "            launch_dict['Payload mass'].append(payload_mass)\n",
        "            #print(payload)\n",
        "\n",
        "            # Adiciona os dados de Orbit ao dicionario launch_dict\n",
        "            orbit = row[5].a.string\n",
        "            launch_dict['Orbit'].append(orbit)\n",
        "            #print(orbit)\n",
        "\n",
        "            # Adiciona os dados de Customer ao dicionario launch_dict\n",
        "            if row[6].a is not None:\n",
        "                customer = row[6].a.string\n",
        "            else:\n",
        "                customer = row[6].string.strip()\n",
        "            launch_dict['Customer'].append(customer)\n",
        "            #print(customer)\n",
        "\n",
        "             # Adiciona os dados de Launch outcome ao dicionario launch_dict\n",
        "            launch_outcome = list(row[7].strings)[0].replace('\\n', '')\n",
        "            launch_dict['Launch outcome'].append(launch_outcome)\n",
        "            #print(launch_outcome)\n",
        "\n",
        "            # Adiciona os dados de Data (date) ao dicionario launch_dict\n",
        "            datatimelist = date_time(row[0])\n",
        "            date = datatimelist[0].strip(',')\n",
        "            launch_dict['Date'].append(date)\n",
        "            #print(date)\n",
        "\n",
        "            # Adiciona os dados de tempo (time) no dicionario launch_dict\n",
        "            time = datatimelist[1]\n",
        "            launch_dict['Time'].append(time)\n",
        "            #print(time)\n",
        "\n",
        "            # Adiciona os dados de Booster Version ao dicionario launch_dict\n",
        "            if row[1].a is not None:\n",
        "                booster_version = row[1].a.string\n",
        "            else:\n",
        "                booster_version = row[1].string.strip()\n",
        "            launch_dict['Version Booster'].append(booster_version)\n",
        "            #print(bv)\n",
        "\n",
        "            # Adiciona os dados de Booster landing ao dicionario launch_dict\n",
        "            booster_landing = landing_status(row[8]).replace('\\n', '')\n",
        "            launch_dict['Booster landing'].append(booster_landing)\n",
        "            #print(booster_landing)\n",
        ""
      ],
      "metadata": {
        "id": "VL60vq8C9elX"
      },
      "execution_count": 266,
      "outputs": []
    },
    {
      "cell_type": "markdown",
      "source": [
        "Após a extração e estruturação dos dados no dicionario, gerar por meio do dicionario um pandas dataframe"
      ],
      "metadata": {
        "id": "oVEkvbN0aA7q"
      }
    },
    {
      "cell_type": "code",
      "source": [
        "df_spacex = pd.DataFrame(\n",
        "    {key:pd.Series(value) for key,\n",
        "     value in launch_dict.items() })"
      ],
      "metadata": {
        "id": "BOmS_ULraaOo"
      },
      "execution_count": 267,
      "outputs": []
    },
    {
      "cell_type": "code",
      "source": [
        "print(df_spacex.shape)\n",
        "df_spacex.head()"
      ],
      "metadata": {
        "colab": {
          "base_uri": "https://localhost:8080/",
          "height": 276
        },
        "id": "p1otaif6mOi3",
        "outputId": "bd5f4f66-05d1-4ffc-d7da-f7c173c71bc1"
      },
      "execution_count": 268,
      "outputs": [
        {
          "output_type": "stream",
          "name": "stdout",
          "text": [
            "(121, 11)\n"
          ]
        },
        {
          "output_type": "execute_result",
          "data": {
            "text/plain": [
              "  Flight No. Launch site                               Payload Payload mass  \\\n",
              "0          1       CCAFS  Dragon Spacecraft Qualification Unit            0   \n",
              "1          2       CCAFS                                Dragon            0   \n",
              "2          3       CCAFS                                Dragon       525 kg   \n",
              "3          4       CCAFS                          SpaceX CRS-1     4,700 kg   \n",
              "4          5       CCAFS                          SpaceX CRS-2     4,877 kg   \n",
              "\n",
              "  Orbit Customer Launch outcome Version Booster Booster landing  \\\n",
              "0   LEO   SpaceX        Success         F9 v1.0         Failure   \n",
              "1   LEO     NASA        Success         F9 v1.0         Failure   \n",
              "2   LEO     NASA        Success         F9 v1.0      No attempt   \n",
              "3   LEO     NASA        Success         F9 v1.0      No attempt   \n",
              "4   LEO     NASA        Success         F9 v1.0      No attempt   \n",
              "\n",
              "              Date   Time  \n",
              "0      4 June 2010  18:45  \n",
              "1  8 December 2010  15:43  \n",
              "2      22 May 2012  07:44  \n",
              "3   8 October 2012  00:35  \n",
              "4     1 March 2013  15:10  "
            ],
            "text/html": [
              "\n",
              "  <div id=\"df-ce17c028-ca33-4bf0-bb19-41a79b884b0b\" class=\"colab-df-container\">\n",
              "    <div>\n",
              "<style scoped>\n",
              "    .dataframe tbody tr th:only-of-type {\n",
              "        vertical-align: middle;\n",
              "    }\n",
              "\n",
              "    .dataframe tbody tr th {\n",
              "        vertical-align: top;\n",
              "    }\n",
              "\n",
              "    .dataframe thead th {\n",
              "        text-align: right;\n",
              "    }\n",
              "</style>\n",
              "<table border=\"1\" class=\"dataframe\">\n",
              "  <thead>\n",
              "    <tr style=\"text-align: right;\">\n",
              "      <th></th>\n",
              "      <th>Flight No.</th>\n",
              "      <th>Launch site</th>\n",
              "      <th>Payload</th>\n",
              "      <th>Payload mass</th>\n",
              "      <th>Orbit</th>\n",
              "      <th>Customer</th>\n",
              "      <th>Launch outcome</th>\n",
              "      <th>Version Booster</th>\n",
              "      <th>Booster landing</th>\n",
              "      <th>Date</th>\n",
              "      <th>Time</th>\n",
              "    </tr>\n",
              "  </thead>\n",
              "  <tbody>\n",
              "    <tr>\n",
              "      <th>0</th>\n",
              "      <td>1</td>\n",
              "      <td>CCAFS</td>\n",
              "      <td>Dragon Spacecraft Qualification Unit</td>\n",
              "      <td>0</td>\n",
              "      <td>LEO</td>\n",
              "      <td>SpaceX</td>\n",
              "      <td>Success</td>\n",
              "      <td>F9 v1.0</td>\n",
              "      <td>Failure</td>\n",
              "      <td>4 June 2010</td>\n",
              "      <td>18:45</td>\n",
              "    </tr>\n",
              "    <tr>\n",
              "      <th>1</th>\n",
              "      <td>2</td>\n",
              "      <td>CCAFS</td>\n",
              "      <td>Dragon</td>\n",
              "      <td>0</td>\n",
              "      <td>LEO</td>\n",
              "      <td>NASA</td>\n",
              "      <td>Success</td>\n",
              "      <td>F9 v1.0</td>\n",
              "      <td>Failure</td>\n",
              "      <td>8 December 2010</td>\n",
              "      <td>15:43</td>\n",
              "    </tr>\n",
              "    <tr>\n",
              "      <th>2</th>\n",
              "      <td>3</td>\n",
              "      <td>CCAFS</td>\n",
              "      <td>Dragon</td>\n",
              "      <td>525 kg</td>\n",
              "      <td>LEO</td>\n",
              "      <td>NASA</td>\n",
              "      <td>Success</td>\n",
              "      <td>F9 v1.0</td>\n",
              "      <td>No attempt</td>\n",
              "      <td>22 May 2012</td>\n",
              "      <td>07:44</td>\n",
              "    </tr>\n",
              "    <tr>\n",
              "      <th>3</th>\n",
              "      <td>4</td>\n",
              "      <td>CCAFS</td>\n",
              "      <td>SpaceX CRS-1</td>\n",
              "      <td>4,700 kg</td>\n",
              "      <td>LEO</td>\n",
              "      <td>NASA</td>\n",
              "      <td>Success</td>\n",
              "      <td>F9 v1.0</td>\n",
              "      <td>No attempt</td>\n",
              "      <td>8 October 2012</td>\n",
              "      <td>00:35</td>\n",
              "    </tr>\n",
              "    <tr>\n",
              "      <th>4</th>\n",
              "      <td>5</td>\n",
              "      <td>CCAFS</td>\n",
              "      <td>SpaceX CRS-2</td>\n",
              "      <td>4,877 kg</td>\n",
              "      <td>LEO</td>\n",
              "      <td>NASA</td>\n",
              "      <td>Success</td>\n",
              "      <td>F9 v1.0</td>\n",
              "      <td>No attempt</td>\n",
              "      <td>1 March 2013</td>\n",
              "      <td>15:10</td>\n",
              "    </tr>\n",
              "  </tbody>\n",
              "</table>\n",
              "</div>\n",
              "    <div class=\"colab-df-buttons\">\n",
              "\n",
              "  <div class=\"colab-df-container\">\n",
              "    <button class=\"colab-df-convert\" onclick=\"convertToInteractive('df-ce17c028-ca33-4bf0-bb19-41a79b884b0b')\"\n",
              "            title=\"Convert this dataframe to an interactive table.\"\n",
              "            style=\"display:none;\">\n",
              "\n",
              "  <svg xmlns=\"http://www.w3.org/2000/svg\" height=\"24px\" viewBox=\"0 -960 960 960\">\n",
              "    <path d=\"M120-120v-720h720v720H120Zm60-500h600v-160H180v160Zm220 220h160v-160H400v160Zm0 220h160v-160H400v160ZM180-400h160v-160H180v160Zm440 0h160v-160H620v160ZM180-180h160v-160H180v160Zm440 0h160v-160H620v160Z\"/>\n",
              "  </svg>\n",
              "    </button>\n",
              "\n",
              "  <style>\n",
              "    .colab-df-container {\n",
              "      display:flex;\n",
              "      gap: 12px;\n",
              "    }\n",
              "\n",
              "    .colab-df-convert {\n",
              "      background-color: #E8F0FE;\n",
              "      border: none;\n",
              "      border-radius: 50%;\n",
              "      cursor: pointer;\n",
              "      display: none;\n",
              "      fill: #1967D2;\n",
              "      height: 32px;\n",
              "      padding: 0 0 0 0;\n",
              "      width: 32px;\n",
              "    }\n",
              "\n",
              "    .colab-df-convert:hover {\n",
              "      background-color: #E2EBFA;\n",
              "      box-shadow: 0px 1px 2px rgba(60, 64, 67, 0.3), 0px 1px 3px 1px rgba(60, 64, 67, 0.15);\n",
              "      fill: #174EA6;\n",
              "    }\n",
              "\n",
              "    .colab-df-buttons div {\n",
              "      margin-bottom: 4px;\n",
              "    }\n",
              "\n",
              "    [theme=dark] .colab-df-convert {\n",
              "      background-color: #3B4455;\n",
              "      fill: #D2E3FC;\n",
              "    }\n",
              "\n",
              "    [theme=dark] .colab-df-convert:hover {\n",
              "      background-color: #434B5C;\n",
              "      box-shadow: 0px 1px 3px 1px rgba(0, 0, 0, 0.15);\n",
              "      filter: drop-shadow(0px 1px 2px rgba(0, 0, 0, 0.3));\n",
              "      fill: #FFFFFF;\n",
              "    }\n",
              "  </style>\n",
              "\n",
              "    <script>\n",
              "      const buttonEl =\n",
              "        document.querySelector('#df-ce17c028-ca33-4bf0-bb19-41a79b884b0b button.colab-df-convert');\n",
              "      buttonEl.style.display =\n",
              "        google.colab.kernel.accessAllowed ? 'block' : 'none';\n",
              "\n",
              "      async function convertToInteractive(key) {\n",
              "        const element = document.querySelector('#df-ce17c028-ca33-4bf0-bb19-41a79b884b0b');\n",
              "        const dataTable =\n",
              "          await google.colab.kernel.invokeFunction('convertToInteractive',\n",
              "                                                    [key], {});\n",
              "        if (!dataTable) return;\n",
              "\n",
              "        const docLinkHtml = 'Like what you see? Visit the ' +\n",
              "          '<a target=\"_blank\" href=https://colab.research.google.com/notebooks/data_table.ipynb>data table notebook</a>'\n",
              "          + ' to learn more about interactive tables.';\n",
              "        element.innerHTML = '';\n",
              "        dataTable['output_type'] = 'display_data';\n",
              "        await google.colab.output.renderOutput(dataTable, element);\n",
              "        const docLink = document.createElement('div');\n",
              "        docLink.innerHTML = docLinkHtml;\n",
              "        element.appendChild(docLink);\n",
              "      }\n",
              "    </script>\n",
              "  </div>\n",
              "\n",
              "\n",
              "<div id=\"df-a1ff7898-b25c-4392-9092-ee93e5f75f2e\">\n",
              "  <button class=\"colab-df-quickchart\" onclick=\"quickchart('df-a1ff7898-b25c-4392-9092-ee93e5f75f2e')\"\n",
              "            title=\"Suggest charts\"\n",
              "            style=\"display:none;\">\n",
              "\n",
              "<svg xmlns=\"http://www.w3.org/2000/svg\" height=\"24px\"viewBox=\"0 0 24 24\"\n",
              "     width=\"24px\">\n",
              "    <g>\n",
              "        <path d=\"M19 3H5c-1.1 0-2 .9-2 2v14c0 1.1.9 2 2 2h14c1.1 0 2-.9 2-2V5c0-1.1-.9-2-2-2zM9 17H7v-7h2v7zm4 0h-2V7h2v10zm4 0h-2v-4h2v4z\"/>\n",
              "    </g>\n",
              "</svg>\n",
              "  </button>\n",
              "\n",
              "<style>\n",
              "  .colab-df-quickchart {\n",
              "      --bg-color: #E8F0FE;\n",
              "      --fill-color: #1967D2;\n",
              "      --hover-bg-color: #E2EBFA;\n",
              "      --hover-fill-color: #174EA6;\n",
              "      --disabled-fill-color: #AAA;\n",
              "      --disabled-bg-color: #DDD;\n",
              "  }\n",
              "\n",
              "  [theme=dark] .colab-df-quickchart {\n",
              "      --bg-color: #3B4455;\n",
              "      --fill-color: #D2E3FC;\n",
              "      --hover-bg-color: #434B5C;\n",
              "      --hover-fill-color: #FFFFFF;\n",
              "      --disabled-bg-color: #3B4455;\n",
              "      --disabled-fill-color: #666;\n",
              "  }\n",
              "\n",
              "  .colab-df-quickchart {\n",
              "    background-color: var(--bg-color);\n",
              "    border: none;\n",
              "    border-radius: 50%;\n",
              "    cursor: pointer;\n",
              "    display: none;\n",
              "    fill: var(--fill-color);\n",
              "    height: 32px;\n",
              "    padding: 0;\n",
              "    width: 32px;\n",
              "  }\n",
              "\n",
              "  .colab-df-quickchart:hover {\n",
              "    background-color: var(--hover-bg-color);\n",
              "    box-shadow: 0 1px 2px rgba(60, 64, 67, 0.3), 0 1px 3px 1px rgba(60, 64, 67, 0.15);\n",
              "    fill: var(--button-hover-fill-color);\n",
              "  }\n",
              "\n",
              "  .colab-df-quickchart-complete:disabled,\n",
              "  .colab-df-quickchart-complete:disabled:hover {\n",
              "    background-color: var(--disabled-bg-color);\n",
              "    fill: var(--disabled-fill-color);\n",
              "    box-shadow: none;\n",
              "  }\n",
              "\n",
              "  .colab-df-spinner {\n",
              "    border: 2px solid var(--fill-color);\n",
              "    border-color: transparent;\n",
              "    border-bottom-color: var(--fill-color);\n",
              "    animation:\n",
              "      spin 1s steps(1) infinite;\n",
              "  }\n",
              "\n",
              "  @keyframes spin {\n",
              "    0% {\n",
              "      border-color: transparent;\n",
              "      border-bottom-color: var(--fill-color);\n",
              "      border-left-color: var(--fill-color);\n",
              "    }\n",
              "    20% {\n",
              "      border-color: transparent;\n",
              "      border-left-color: var(--fill-color);\n",
              "      border-top-color: var(--fill-color);\n",
              "    }\n",
              "    30% {\n",
              "      border-color: transparent;\n",
              "      border-left-color: var(--fill-color);\n",
              "      border-top-color: var(--fill-color);\n",
              "      border-right-color: var(--fill-color);\n",
              "    }\n",
              "    40% {\n",
              "      border-color: transparent;\n",
              "      border-right-color: var(--fill-color);\n",
              "      border-top-color: var(--fill-color);\n",
              "    }\n",
              "    60% {\n",
              "      border-color: transparent;\n",
              "      border-right-color: var(--fill-color);\n",
              "    }\n",
              "    80% {\n",
              "      border-color: transparent;\n",
              "      border-right-color: var(--fill-color);\n",
              "      border-bottom-color: var(--fill-color);\n",
              "    }\n",
              "    90% {\n",
              "      border-color: transparent;\n",
              "      border-bottom-color: var(--fill-color);\n",
              "    }\n",
              "  }\n",
              "</style>\n",
              "\n",
              "  <script>\n",
              "    async function quickchart(key) {\n",
              "      const quickchartButtonEl =\n",
              "        document.querySelector('#' + key + ' button');\n",
              "      quickchartButtonEl.disabled = true;  // To prevent multiple clicks.\n",
              "      quickchartButtonEl.classList.add('colab-df-spinner');\n",
              "      try {\n",
              "        const charts = await google.colab.kernel.invokeFunction(\n",
              "            'suggestCharts', [key], {});\n",
              "      } catch (error) {\n",
              "        console.error('Error during call to suggestCharts:', error);\n",
              "      }\n",
              "      quickchartButtonEl.classList.remove('colab-df-spinner');\n",
              "      quickchartButtonEl.classList.add('colab-df-quickchart-complete');\n",
              "    }\n",
              "    (() => {\n",
              "      let quickchartButtonEl =\n",
              "        document.querySelector('#df-a1ff7898-b25c-4392-9092-ee93e5f75f2e button');\n",
              "      quickchartButtonEl.style.display =\n",
              "        google.colab.kernel.accessAllowed ? 'block' : 'none';\n",
              "    })();\n",
              "  </script>\n",
              "</div>\n",
              "\n",
              "    </div>\n",
              "  </div>\n"
            ],
            "application/vnd.google.colaboratory.intrinsic+json": {
              "type": "dataframe",
              "variable_name": "df_spacex",
              "summary": "{\n  \"name\": \"df_spacex\",\n  \"rows\": 121,\n  \"fields\": [\n    {\n      \"column\": \"Flight No.\",\n      \"properties\": {\n        \"dtype\": \"string\",\n        \"num_unique_values\": 121,\n        \"samples\": [\n          \"45\",\n          \"48\",\n          \"5\"\n        ],\n        \"semantic_type\": \"\",\n        \"description\": \"\"\n      }\n    },\n    {\n      \"column\": \"Launch site\",\n      \"properties\": {\n        \"dtype\": \"category\",\n        \"num_unique_values\": 5,\n        \"samples\": [\n          \"VAFB\",\n          \"CCSFS\",\n          \"Cape Canaveral\"\n        ],\n        \"semantic_type\": \"\",\n        \"description\": \"\"\n      }\n    },\n    {\n      \"column\": \"Payload\",\n      \"properties\": {\n        \"dtype\": \"string\",\n        \"num_unique_values\": 82,\n        \"samples\": [\n          \"NROL-76\",\n          \"Dragon Spacecraft Qualification Unit\",\n          \"Thaicom 8\"\n        ],\n        \"semantic_type\": \"\",\n        \"description\": \"\"\n      }\n    },\n    {\n      \"column\": \"Payload mass\",\n      \"properties\": {\n        \"dtype\": \"string\",\n        \"num_unique_values\": 84,\n        \"samples\": [\n          \"14,932 kg\",\n          0,\n          \"12,055 kg\"\n        ],\n        \"semantic_type\": \"\",\n        \"description\": \"\"\n      }\n    },\n    {\n      \"column\": \"Orbit\",\n      \"properties\": {\n        \"dtype\": \"category\",\n        \"num_unique_values\": 8,\n        \"samples\": [\n          \"Polar orbit\",\n          \"SSO\",\n          \"LEO\"\n        ],\n        \"semantic_type\": \"\",\n        \"description\": \"\"\n      }\n    },\n    {\n      \"column\": \"Customer\",\n      \"properties\": {\n        \"dtype\": \"category\",\n        \"num_unique_values\": 38,\n        \"samples\": [\n          \"Republic of Korea Army\",\n          \"T\\u00fcrksat\",\n          \"Thaicom\"\n        ],\n        \"semantic_type\": \"\",\n        \"description\": \"\"\n      }\n    },\n    {\n      \"column\": \"Launch outcome\",\n      \"properties\": {\n        \"dtype\": \"category\",\n        \"num_unique_values\": 2,\n        \"samples\": [\n          \"Failure\",\n          \"Success\"\n        ],\n        \"semantic_type\": \"\",\n        \"description\": \"\"\n      }\n    },\n    {\n      \"column\": \"Version Booster\",\n      \"properties\": {\n        \"dtype\": \"category\",\n        \"num_unique_values\": 6,\n        \"samples\": [\n          \"F9 v1.0\",\n          \"F9 v1.1\"\n        ],\n        \"semantic_type\": \"\",\n        \"description\": \"\"\n      }\n    },\n    {\n      \"column\": \"Booster landing\",\n      \"properties\": {\n        \"dtype\": \"category\",\n        \"num_unique_values\": 7,\n        \"samples\": [\n          \"Failure\",\n          \"No attempt\"\n        ],\n        \"semantic_type\": \"\",\n        \"description\": \"\"\n      }\n    },\n    {\n      \"column\": \"Date\",\n      \"properties\": {\n        \"dtype\": \"object\",\n        \"num_unique_values\": 121,\n        \"samples\": [\n          \"15 December 2017\",\n          \"31 January 2018\"\n        ],\n        \"semantic_type\": \"\",\n        \"description\": \"\"\n      }\n    },\n    {\n      \"column\": \"Time\",\n      \"properties\": {\n        \"dtype\": \"object\",\n        \"num_unique_values\": 116,\n        \"samples\": [\n          \"20:10:46\",\n          \"15:10\"\n        ],\n        \"semantic_type\": \"\",\n        \"description\": \"\"\n      }\n    }\n  ]\n}"
            }
          },
          "metadata": {},
          "execution_count": 268
        }
      ]
    },
    {
      "cell_type": "markdown",
      "source": [
        "### Salvando os dados estruturados em pandas dataframe, em um arquivo CSV"
      ],
      "metadata": {
        "id": "kPRu_HKVmcxL"
      }
    },
    {
      "cell_type": "code",
      "source": [
        "df_spacex.to_csv('Coletar_Dados_WebScrap_SpaceX.csv',\n",
        "                 index=False,\n",
        "                 index_label=False)"
      ],
      "metadata": {
        "id": "8ZBB9nb4mqD3"
      },
      "execution_count": 269,
      "outputs": []
    }
  ]
}