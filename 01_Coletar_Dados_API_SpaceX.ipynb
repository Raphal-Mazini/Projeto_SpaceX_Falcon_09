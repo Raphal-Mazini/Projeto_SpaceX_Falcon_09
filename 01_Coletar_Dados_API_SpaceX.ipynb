{
  "nbformat": 4,
  "nbformat_minor": 0,
  "metadata": {
    "colab": {
      "provenance": []
    },
    "kernelspec": {
      "name": "python3",
      "display_name": "Python 3"
    },
    "language_info": {
      "name": "python"
    }
  },
  "cells": [
    {
      "cell_type": "markdown",
      "source": [
        "Objeto do projeto"
      ],
      "metadata": {
        "id": "Kz1q_afr4Pdu"
      }
    },
    {
      "cell_type": "markdown",
      "source": [
        "Fatores que seram a bordados"
      ],
      "metadata": {
        "id": "8MJ1FDpu4Wna"
      }
    },
    {
      "cell_type": "markdown",
      "source": [
        "* Desenvolver código Python para manipular dados em um quadro de dados do Pandas\n",
        "* Converta um arquivo JSON em um quadro de dados Python Pandas convertendo um arquivo JSON\n",
        "* Crie um notebook Jupyter e torne-o compartilhável usando o GitHub\n",
        "* Utilizar metodologias de ciência de dados para definir e formular um problema comercial do mundo real\n",
        "* Utilize suas ferramentas de análise de dados para carregar um conjunto de dados, limpá-lo e descobrir insights interessantes sobre ele"
      ],
      "metadata": {
        "id": "FkxO6ur9nV7y"
      }
    },
    {
      "cell_type": "markdown",
      "source": [
        "## Visão Geral do Projeto"
      ],
      "metadata": {
        "id": "OFXuQYjy5i2L"
      }
    },
    {
      "cell_type": "markdown",
      "source": [
        "![](https://cf-courses-data.s3.us.cloud-object-storage.appdomain.cloud/IBMDeveloperSkillsNetwork-DS0701EN-SkillsNetwork/lab_v2/images/landing_1.gif)\n",
        "\n",
        "![](https://cf-courses-data.s3.us.cloud-object-storage.appdomain.cloud/IBMDeveloperSkillsNetwork-DS0701EN-SkillsNetwork/lab_v2/images/crash.gif)"
      ],
      "metadata": {
        "id": "cDM94GmFKN9Q"
      }
    },
    {
      "cell_type": "markdown",
      "source": [
        "# <center> Extrair Dados pela API SpaceX </center>"
      ],
      "metadata": {
        "id": "-QEt7VT5oV3Y"
      }
    },
    {
      "cell_type": "code",
      "source": [
        "# Biblioteca para requisição requests\n",
        "import requests\n",
        "\n",
        "# Biblioteca para manipulação de dados tabular\n",
        "import pandas as pd\n",
        "\n",
        "# Biblioteca para matrizes e arrays grandes e multidimensionais, funções matemáticas de alto nível\n",
        "import numpy as np\n",
        "\n",
        "import datetime\n",
        "import warnings\n",
        "warnings.filterwarnings(\"ignore\")\n",
        "\n",
        "# Permite visualizar todas as colunas de um dataframe\n",
        "pd.set_option('display.max_columns', None)\n",
        "\n",
        "# Permite visualizar todas as linhas da coluna de um dataframe\n",
        "#pd.set_option('display.max_colwidth', None)"
      ],
      "metadata": {
        "id": "ytjou3Oy9zFw"
      },
      "execution_count": 74,
      "outputs": []
    },
    {
      "cell_type": "markdown",
      "source": [
        "Neste laboratório, você coletará e garantirá que os dados estejam no formato correto de uma API."
      ],
      "metadata": {
        "id": "9eT51uxOJSN8"
      }
    },
    {
      "cell_type": "code",
      "source": [
        "# Acessando todas as pastas presentas nesta api\n",
        "url = \"https://cf-courses-data.s3.us.cloud-object-storage.appdomain.cloud/IBM-DS0321EN-SkillsNetwork/datasets/API_call_spacex_api.json\"\n",
        "\n",
        "#\"https://api.spacexdata.com/v4/launches/past\"\n",
        "# requisição/solicitação get\n",
        "response = requests.get(url)\n",
        "\n",
        "# Retorna o Status da resposta obtida (200 = OK)\n",
        "print(response.status_code)\n",
        "\n",
        "# Objeto requests json para DataFrame\n",
        "data = pd.json_normalize(response.json())"
      ],
      "metadata": {
        "colab": {
          "base_uri": "https://localhost:8080/"
        },
        "id": "zJRvhlHYAJ8R",
        "outputId": "7e448f11-4aac-49e1-91ff-d6b57e0f9893"
      },
      "execution_count": 75,
      "outputs": [
        {
          "output_type": "stream",
          "name": "stdout",
          "text": [
            "200\n"
          ]
        }
      ]
    },
    {
      "cell_type": "code",
      "source": [
        "data.head(2)"
      ],
      "metadata": {
        "colab": {
          "base_uri": "https://localhost:8080/",
          "height": 306
        },
        "collapsed": true,
        "id": "3u_QbmzKC-is",
        "outputId": "6723bef4-3f02-43e9-a4f6-5719c6b901d7"
      },
      "execution_count": 76,
      "outputs": [
        {
          "output_type": "execute_result",
          "data": {
            "text/plain": [
              "       static_fire_date_utc  static_fire_date_unix    tbd    net  window  \\\n",
              "0  2006-03-17T00:00:00.000Z           1.142554e+09  False  False     0.0   \n",
              "1                      None                    NaN  False  False     0.0   \n",
              "\n",
              "                     rocket  success  \\\n",
              "0  5e9d0d95eda69955f709d1eb    False   \n",
              "1  5e9d0d95eda69955f709d1eb    False   \n",
              "\n",
              "                                             details crew ships capsules  \\\n",
              "0   Engine failure at 33 seconds and loss of vehicle   []    []       []   \n",
              "1  Successful first stage burn and transition to ...   []    []       []   \n",
              "\n",
              "                     payloads                 launchpad  auto_update  \\\n",
              "0  [5eb0e4b5b6c3bb0006eeb1e1]  5e9e4502f5090995de566f86         True   \n",
              "1  [5eb0e4b6b6c3bb0006eeb1e2]  5e9e4502f5090995de566f86         True   \n",
              "\n",
              "                                            failures  flight_number  \\\n",
              "0  [{'time': 33, 'altitude': None, 'reason': 'mer...              1   \n",
              "1  [{'time': 301, 'altitude': 289, 'reason': 'har...              2   \n",
              "\n",
              "        name                  date_utc   date_unix                 date_local  \\\n",
              "0  FalconSat  2006-03-24T22:30:00.000Z  1143239400  2006-03-25T10:30:00+12:00   \n",
              "1    DemoSat  2007-03-21T01:10:00.000Z  1174439400  2007-03-21T13:10:00+12:00   \n",
              "\n",
              "  date_precision  upcoming                                              cores  \\\n",
              "0           hour     False  [{'core': '5e9e289df35918033d3b2623', 'flight'...   \n",
              "1           hour     False  [{'core': '5e9e289ef35918416a3b2624', 'flight'...   \n",
              "\n",
              "                         id fairings.reused fairings.recovery_attempt  \\\n",
              "0  5eb87cd9ffd86e000604b32a           False                     False   \n",
              "1  5eb87cdaffd86e000604b32b           False                     False   \n",
              "\n",
              "  fairings.recovered fairings.ships  \\\n",
              "0              False             []   \n",
              "1              False             []   \n",
              "\n",
              "                                 links.patch.small  \\\n",
              "0  https://images2.imgbox.com/3c/0e/T8iJcSN3_o.png   \n",
              "1  https://images2.imgbox.com/4f/e3/I0lkuJ2e_o.png   \n",
              "\n",
              "                                 links.patch.large links.reddit.campaign  \\\n",
              "0  https://images2.imgbox.com/40/e3/GypSkayF_o.png                  None   \n",
              "1  https://images2.imgbox.com/be/e7/iNqsqVYM_o.png                  None   \n",
              "\n",
              "  links.reddit.launch links.reddit.media links.reddit.recovery  \\\n",
              "0                None               None                  None   \n",
              "1                None               None                  None   \n",
              "\n",
              "  links.flickr.small links.flickr.original links.presskit  \\\n",
              "0                 []                    []           None   \n",
              "1                 []                    []           None   \n",
              "\n",
              "                                 links.webcast links.youtube_id  \\\n",
              "0  https://www.youtube.com/watch?v=0a_00nJ_Y88      0a_00nJ_Y88   \n",
              "1  https://www.youtube.com/watch?v=Lk4zQ2wP-Nc      Lk4zQ2wP-Nc   \n",
              "\n",
              "                                       links.article  \\\n",
              "0  https://www.space.com/2196-spacex-inaugural-fa...   \n",
              "1  https://www.space.com/3590-spacex-falcon-1-roc...   \n",
              "\n",
              "                         links.wikipedia  fairings  \n",
              "0  https://en.wikipedia.org/wiki/DemoSat       NaN  \n",
              "1  https://en.wikipedia.org/wiki/DemoSat       NaN  "
            ],
            "text/html": [
              "\n",
              "  <div id=\"df-f4fbaccc-1d8c-4f58-806a-399c427eec57\" class=\"colab-df-container\">\n",
              "    <div>\n",
              "<style scoped>\n",
              "    .dataframe tbody tr th:only-of-type {\n",
              "        vertical-align: middle;\n",
              "    }\n",
              "\n",
              "    .dataframe tbody tr th {\n",
              "        vertical-align: top;\n",
              "    }\n",
              "\n",
              "    .dataframe thead th {\n",
              "        text-align: right;\n",
              "    }\n",
              "</style>\n",
              "<table border=\"1\" class=\"dataframe\">\n",
              "  <thead>\n",
              "    <tr style=\"text-align: right;\">\n",
              "      <th></th>\n",
              "      <th>static_fire_date_utc</th>\n",
              "      <th>static_fire_date_unix</th>\n",
              "      <th>tbd</th>\n",
              "      <th>net</th>\n",
              "      <th>window</th>\n",
              "      <th>rocket</th>\n",
              "      <th>success</th>\n",
              "      <th>details</th>\n",
              "      <th>crew</th>\n",
              "      <th>ships</th>\n",
              "      <th>capsules</th>\n",
              "      <th>payloads</th>\n",
              "      <th>launchpad</th>\n",
              "      <th>auto_update</th>\n",
              "      <th>failures</th>\n",
              "      <th>flight_number</th>\n",
              "      <th>name</th>\n",
              "      <th>date_utc</th>\n",
              "      <th>date_unix</th>\n",
              "      <th>date_local</th>\n",
              "      <th>date_precision</th>\n",
              "      <th>upcoming</th>\n",
              "      <th>cores</th>\n",
              "      <th>id</th>\n",
              "      <th>fairings.reused</th>\n",
              "      <th>fairings.recovery_attempt</th>\n",
              "      <th>fairings.recovered</th>\n",
              "      <th>fairings.ships</th>\n",
              "      <th>links.patch.small</th>\n",
              "      <th>links.patch.large</th>\n",
              "      <th>links.reddit.campaign</th>\n",
              "      <th>links.reddit.launch</th>\n",
              "      <th>links.reddit.media</th>\n",
              "      <th>links.reddit.recovery</th>\n",
              "      <th>links.flickr.small</th>\n",
              "      <th>links.flickr.original</th>\n",
              "      <th>links.presskit</th>\n",
              "      <th>links.webcast</th>\n",
              "      <th>links.youtube_id</th>\n",
              "      <th>links.article</th>\n",
              "      <th>links.wikipedia</th>\n",
              "      <th>fairings</th>\n",
              "    </tr>\n",
              "  </thead>\n",
              "  <tbody>\n",
              "    <tr>\n",
              "      <th>0</th>\n",
              "      <td>2006-03-17T00:00:00.000Z</td>\n",
              "      <td>1.142554e+09</td>\n",
              "      <td>False</td>\n",
              "      <td>False</td>\n",
              "      <td>0.0</td>\n",
              "      <td>5e9d0d95eda69955f709d1eb</td>\n",
              "      <td>False</td>\n",
              "      <td>Engine failure at 33 seconds and loss of vehicle</td>\n",
              "      <td>[]</td>\n",
              "      <td>[]</td>\n",
              "      <td>[]</td>\n",
              "      <td>[5eb0e4b5b6c3bb0006eeb1e1]</td>\n",
              "      <td>5e9e4502f5090995de566f86</td>\n",
              "      <td>True</td>\n",
              "      <td>[{'time': 33, 'altitude': None, 'reason': 'mer...</td>\n",
              "      <td>1</td>\n",
              "      <td>FalconSat</td>\n",
              "      <td>2006-03-24T22:30:00.000Z</td>\n",
              "      <td>1143239400</td>\n",
              "      <td>2006-03-25T10:30:00+12:00</td>\n",
              "      <td>hour</td>\n",
              "      <td>False</td>\n",
              "      <td>[{'core': '5e9e289df35918033d3b2623', 'flight'...</td>\n",
              "      <td>5eb87cd9ffd86e000604b32a</td>\n",
              "      <td>False</td>\n",
              "      <td>False</td>\n",
              "      <td>False</td>\n",
              "      <td>[]</td>\n",
              "      <td>https://images2.imgbox.com/3c/0e/T8iJcSN3_o.png</td>\n",
              "      <td>https://images2.imgbox.com/40/e3/GypSkayF_o.png</td>\n",
              "      <td>None</td>\n",
              "      <td>None</td>\n",
              "      <td>None</td>\n",
              "      <td>None</td>\n",
              "      <td>[]</td>\n",
              "      <td>[]</td>\n",
              "      <td>None</td>\n",
              "      <td>https://www.youtube.com/watch?v=0a_00nJ_Y88</td>\n",
              "      <td>0a_00nJ_Y88</td>\n",
              "      <td>https://www.space.com/2196-spacex-inaugural-fa...</td>\n",
              "      <td>https://en.wikipedia.org/wiki/DemoSat</td>\n",
              "      <td>NaN</td>\n",
              "    </tr>\n",
              "    <tr>\n",
              "      <th>1</th>\n",
              "      <td>None</td>\n",
              "      <td>NaN</td>\n",
              "      <td>False</td>\n",
              "      <td>False</td>\n",
              "      <td>0.0</td>\n",
              "      <td>5e9d0d95eda69955f709d1eb</td>\n",
              "      <td>False</td>\n",
              "      <td>Successful first stage burn and transition to ...</td>\n",
              "      <td>[]</td>\n",
              "      <td>[]</td>\n",
              "      <td>[]</td>\n",
              "      <td>[5eb0e4b6b6c3bb0006eeb1e2]</td>\n",
              "      <td>5e9e4502f5090995de566f86</td>\n",
              "      <td>True</td>\n",
              "      <td>[{'time': 301, 'altitude': 289, 'reason': 'har...</td>\n",
              "      <td>2</td>\n",
              "      <td>DemoSat</td>\n",
              "      <td>2007-03-21T01:10:00.000Z</td>\n",
              "      <td>1174439400</td>\n",
              "      <td>2007-03-21T13:10:00+12:00</td>\n",
              "      <td>hour</td>\n",
              "      <td>False</td>\n",
              "      <td>[{'core': '5e9e289ef35918416a3b2624', 'flight'...</td>\n",
              "      <td>5eb87cdaffd86e000604b32b</td>\n",
              "      <td>False</td>\n",
              "      <td>False</td>\n",
              "      <td>False</td>\n",
              "      <td>[]</td>\n",
              "      <td>https://images2.imgbox.com/4f/e3/I0lkuJ2e_o.png</td>\n",
              "      <td>https://images2.imgbox.com/be/e7/iNqsqVYM_o.png</td>\n",
              "      <td>None</td>\n",
              "      <td>None</td>\n",
              "      <td>None</td>\n",
              "      <td>None</td>\n",
              "      <td>[]</td>\n",
              "      <td>[]</td>\n",
              "      <td>None</td>\n",
              "      <td>https://www.youtube.com/watch?v=Lk4zQ2wP-Nc</td>\n",
              "      <td>Lk4zQ2wP-Nc</td>\n",
              "      <td>https://www.space.com/3590-spacex-falcon-1-roc...</td>\n",
              "      <td>https://en.wikipedia.org/wiki/DemoSat</td>\n",
              "      <td>NaN</td>\n",
              "    </tr>\n",
              "  </tbody>\n",
              "</table>\n",
              "</div>\n",
              "    <div class=\"colab-df-buttons\">\n",
              "\n",
              "  <div class=\"colab-df-container\">\n",
              "    <button class=\"colab-df-convert\" onclick=\"convertToInteractive('df-f4fbaccc-1d8c-4f58-806a-399c427eec57')\"\n",
              "            title=\"Convert this dataframe to an interactive table.\"\n",
              "            style=\"display:none;\">\n",
              "\n",
              "  <svg xmlns=\"http://www.w3.org/2000/svg\" height=\"24px\" viewBox=\"0 -960 960 960\">\n",
              "    <path d=\"M120-120v-720h720v720H120Zm60-500h600v-160H180v160Zm220 220h160v-160H400v160Zm0 220h160v-160H400v160ZM180-400h160v-160H180v160Zm440 0h160v-160H620v160ZM180-180h160v-160H180v160Zm440 0h160v-160H620v160Z\"/>\n",
              "  </svg>\n",
              "    </button>\n",
              "\n",
              "  <style>\n",
              "    .colab-df-container {\n",
              "      display:flex;\n",
              "      gap: 12px;\n",
              "    }\n",
              "\n",
              "    .colab-df-convert {\n",
              "      background-color: #E8F0FE;\n",
              "      border: none;\n",
              "      border-radius: 50%;\n",
              "      cursor: pointer;\n",
              "      display: none;\n",
              "      fill: #1967D2;\n",
              "      height: 32px;\n",
              "      padding: 0 0 0 0;\n",
              "      width: 32px;\n",
              "    }\n",
              "\n",
              "    .colab-df-convert:hover {\n",
              "      background-color: #E2EBFA;\n",
              "      box-shadow: 0px 1px 2px rgba(60, 64, 67, 0.3), 0px 1px 3px 1px rgba(60, 64, 67, 0.15);\n",
              "      fill: #174EA6;\n",
              "    }\n",
              "\n",
              "    .colab-df-buttons div {\n",
              "      margin-bottom: 4px;\n",
              "    }\n",
              "\n",
              "    [theme=dark] .colab-df-convert {\n",
              "      background-color: #3B4455;\n",
              "      fill: #D2E3FC;\n",
              "    }\n",
              "\n",
              "    [theme=dark] .colab-df-convert:hover {\n",
              "      background-color: #434B5C;\n",
              "      box-shadow: 0px 1px 3px 1px rgba(0, 0, 0, 0.15);\n",
              "      filter: drop-shadow(0px 1px 2px rgba(0, 0, 0, 0.3));\n",
              "      fill: #FFFFFF;\n",
              "    }\n",
              "  </style>\n",
              "\n",
              "    <script>\n",
              "      const buttonEl =\n",
              "        document.querySelector('#df-f4fbaccc-1d8c-4f58-806a-399c427eec57 button.colab-df-convert');\n",
              "      buttonEl.style.display =\n",
              "        google.colab.kernel.accessAllowed ? 'block' : 'none';\n",
              "\n",
              "      async function convertToInteractive(key) {\n",
              "        const element = document.querySelector('#df-f4fbaccc-1d8c-4f58-806a-399c427eec57');\n",
              "        const dataTable =\n",
              "          await google.colab.kernel.invokeFunction('convertToInteractive',\n",
              "                                                    [key], {});\n",
              "        if (!dataTable) return;\n",
              "\n",
              "        const docLinkHtml = 'Like what you see? Visit the ' +\n",
              "          '<a target=\"_blank\" href=https://colab.research.google.com/notebooks/data_table.ipynb>data table notebook</a>'\n",
              "          + ' to learn more about interactive tables.';\n",
              "        element.innerHTML = '';\n",
              "        dataTable['output_type'] = 'display_data';\n",
              "        await google.colab.output.renderOutput(dataTable, element);\n",
              "        const docLink = document.createElement('div');\n",
              "        docLink.innerHTML = docLinkHtml;\n",
              "        element.appendChild(docLink);\n",
              "      }\n",
              "    </script>\n",
              "  </div>\n",
              "\n",
              "\n",
              "<div id=\"df-cd2e783d-5264-402d-8e6c-34c2735009ba\">\n",
              "  <button class=\"colab-df-quickchart\" onclick=\"quickchart('df-cd2e783d-5264-402d-8e6c-34c2735009ba')\"\n",
              "            title=\"Suggest charts\"\n",
              "            style=\"display:none;\">\n",
              "\n",
              "<svg xmlns=\"http://www.w3.org/2000/svg\" height=\"24px\"viewBox=\"0 0 24 24\"\n",
              "     width=\"24px\">\n",
              "    <g>\n",
              "        <path d=\"M19 3H5c-1.1 0-2 .9-2 2v14c0 1.1.9 2 2 2h14c1.1 0 2-.9 2-2V5c0-1.1-.9-2-2-2zM9 17H7v-7h2v7zm4 0h-2V7h2v10zm4 0h-2v-4h2v4z\"/>\n",
              "    </g>\n",
              "</svg>\n",
              "  </button>\n",
              "\n",
              "<style>\n",
              "  .colab-df-quickchart {\n",
              "      --bg-color: #E8F0FE;\n",
              "      --fill-color: #1967D2;\n",
              "      --hover-bg-color: #E2EBFA;\n",
              "      --hover-fill-color: #174EA6;\n",
              "      --disabled-fill-color: #AAA;\n",
              "      --disabled-bg-color: #DDD;\n",
              "  }\n",
              "\n",
              "  [theme=dark] .colab-df-quickchart {\n",
              "      --bg-color: #3B4455;\n",
              "      --fill-color: #D2E3FC;\n",
              "      --hover-bg-color: #434B5C;\n",
              "      --hover-fill-color: #FFFFFF;\n",
              "      --disabled-bg-color: #3B4455;\n",
              "      --disabled-fill-color: #666;\n",
              "  }\n",
              "\n",
              "  .colab-df-quickchart {\n",
              "    background-color: var(--bg-color);\n",
              "    border: none;\n",
              "    border-radius: 50%;\n",
              "    cursor: pointer;\n",
              "    display: none;\n",
              "    fill: var(--fill-color);\n",
              "    height: 32px;\n",
              "    padding: 0;\n",
              "    width: 32px;\n",
              "  }\n",
              "\n",
              "  .colab-df-quickchart:hover {\n",
              "    background-color: var(--hover-bg-color);\n",
              "    box-shadow: 0 1px 2px rgba(60, 64, 67, 0.3), 0 1px 3px 1px rgba(60, 64, 67, 0.15);\n",
              "    fill: var(--button-hover-fill-color);\n",
              "  }\n",
              "\n",
              "  .colab-df-quickchart-complete:disabled,\n",
              "  .colab-df-quickchart-complete:disabled:hover {\n",
              "    background-color: var(--disabled-bg-color);\n",
              "    fill: var(--disabled-fill-color);\n",
              "    box-shadow: none;\n",
              "  }\n",
              "\n",
              "  .colab-df-spinner {\n",
              "    border: 2px solid var(--fill-color);\n",
              "    border-color: transparent;\n",
              "    border-bottom-color: var(--fill-color);\n",
              "    animation:\n",
              "      spin 1s steps(1) infinite;\n",
              "  }\n",
              "\n",
              "  @keyframes spin {\n",
              "    0% {\n",
              "      border-color: transparent;\n",
              "      border-bottom-color: var(--fill-color);\n",
              "      border-left-color: var(--fill-color);\n",
              "    }\n",
              "    20% {\n",
              "      border-color: transparent;\n",
              "      border-left-color: var(--fill-color);\n",
              "      border-top-color: var(--fill-color);\n",
              "    }\n",
              "    30% {\n",
              "      border-color: transparent;\n",
              "      border-left-color: var(--fill-color);\n",
              "      border-top-color: var(--fill-color);\n",
              "      border-right-color: var(--fill-color);\n",
              "    }\n",
              "    40% {\n",
              "      border-color: transparent;\n",
              "      border-right-color: var(--fill-color);\n",
              "      border-top-color: var(--fill-color);\n",
              "    }\n",
              "    60% {\n",
              "      border-color: transparent;\n",
              "      border-right-color: var(--fill-color);\n",
              "    }\n",
              "    80% {\n",
              "      border-color: transparent;\n",
              "      border-right-color: var(--fill-color);\n",
              "      border-bottom-color: var(--fill-color);\n",
              "    }\n",
              "    90% {\n",
              "      border-color: transparent;\n",
              "      border-bottom-color: var(--fill-color);\n",
              "    }\n",
              "  }\n",
              "</style>\n",
              "\n",
              "  <script>\n",
              "    async function quickchart(key) {\n",
              "      const quickchartButtonEl =\n",
              "        document.querySelector('#' + key + ' button');\n",
              "      quickchartButtonEl.disabled = true;  // To prevent multiple clicks.\n",
              "      quickchartButtonEl.classList.add('colab-df-spinner');\n",
              "      try {\n",
              "        const charts = await google.colab.kernel.invokeFunction(\n",
              "            'suggestCharts', [key], {});\n",
              "      } catch (error) {\n",
              "        console.error('Error during call to suggestCharts:', error);\n",
              "      }\n",
              "      quickchartButtonEl.classList.remove('colab-df-spinner');\n",
              "      quickchartButtonEl.classList.add('colab-df-quickchart-complete');\n",
              "    }\n",
              "    (() => {\n",
              "      let quickchartButtonEl =\n",
              "        document.querySelector('#df-cd2e783d-5264-402d-8e6c-34c2735009ba button');\n",
              "      quickchartButtonEl.style.display =\n",
              "        google.colab.kernel.accessAllowed ? 'block' : 'none';\n",
              "    })();\n",
              "  </script>\n",
              "</div>\n",
              "\n",
              "    </div>\n",
              "  </div>\n"
            ],
            "application/vnd.google.colaboratory.intrinsic+json": {
              "type": "dataframe",
              "variable_name": "data"
            }
          },
          "metadata": {},
          "execution_count": 76
        }
      ]
    },
    {
      "cell_type": "markdown",
      "source": [
        "Nota se que, algumas das variaveis não possuem os dados corretos em seus campos, somente o ID de identificação, não consta os dados, por exemplo, a variavel ``rocket`` não tem informação sobre o foguete, apenas um número de identificação.\n",
        "\n",
        "Será enviado uma requisição a API novamente, para obter informações sobre os lançamentos, usando os IDs fornecidos para cada lançamento.\n",
        "\n",
        "Especificamente, usaremos as colunas <code>rocket</code>, <code>payloads</code>, <code>launchpad</code> e <code>cores</code>.\n"
      ],
      "metadata": {
        "id": "HTLvK6iC8Nv8"
      }
    },
    {
      "cell_type": "code",
      "source": [
        "# Vamos pegar um subconjunto do nosso dataframe mantendo apenas os recursos que queremos, o flight number e o date_utc.\n",
        "data = data[['rocket', 'payloads', 'launchpad', 'cores', 'flight_number', 'date_utc']]\n",
        "\n",
        "# Remover linhas com foguetes de múltiplos núcleos, porque são foguetes Falcon com 2 propulsores de foguete extras\n",
        "data = data[data['cores'].map(len)==1]\n",
        "\n",
        "# Remover também linhas que têm múltiplas cargas úteis em um único foguete.\n",
        "data = data[data['payloads'].map(len)==1]\n",
        "\n",
        "# Como cargas úteis e núcleos são listas de tamanho 1, também extrairemos o valor único na lista e substituiremos o recurso.\n",
        "data['cores'] = data['cores'].map(lambda x : x[0])\n",
        "data['payloads'] = data['payloads'].map(lambda x : x[0])\n",
        "\n",
        "# Também queremos converter o date_utc para um tipo de dados datetime e então extrair a data deixando a hora\n",
        "data['date'] = pd.to_datetime(data['date_utc']).dt.date\n",
        "\n",
        "# Usando a data restringiremos as datas dos lançamentos\n",
        "data = data[data['date'] <= datetime.date(2020, 11, 13)]"
      ],
      "metadata": {
        "id": "iUvHnd6h8QFm"
      },
      "execution_count": 77,
      "outputs": []
    },
    {
      "cell_type": "markdown",
      "source": [
        "Abaixo uma série de funções auxiliares que ajudarão a usar a API para extrair informações usando números de identificação nos dados de lançamento."
      ],
      "metadata": {
        "id": "oTYcyDlQlXZO"
      }
    },
    {
      "cell_type": "markdown",
      "source": [
        "### Na coluna ``rocket`` saber o nome do booster."
      ],
      "metadata": {
        "id": "x4M26jADlsNV"
      }
    },
    {
      "cell_type": "code",
      "source": [
        "# Pega o conjunto de dados e usa a coluna rocket para chamar a API e anexar os dados à lista\n",
        "def getBoosterVersion(data):\n",
        "    for x in data['rocket']:\n",
        "\n",
        "        # Solicitação a API\n",
        "        response = requests.get(\"https://api.spacexdata.com/v4/rockets/\"+str(x)).json()\n",
        "\n",
        "        # Armazenar os dados referente a variavel \"name\"\n",
        "        BoosterVersion.append(response['name'])"
      ],
      "metadata": {
        "id": "LLdzZyKalGd3"
      },
      "execution_count": 78,
      "outputs": []
    },
    {
      "cell_type": "markdown",
      "source": [
        "### Na coluna ``payload`` saber a massa da carga útil e a órbita."
      ],
      "metadata": {
        "id": "AGQJh5JVm7A2"
      }
    },
    {
      "cell_type": "code",
      "source": [
        "# Pega o conjunto de dados e usa a coluna de cargas úteis para chamar a API e anexar os dados às listas\n",
        "def getPayloadData(data):\n",
        "    for load in data['payloads']:\n",
        "\n",
        "        # Solicitação a API\n",
        "        response = requests.get(\"https://api.spacexdata.com/v4/payloads/\"+load).json()\n",
        "\n",
        "        # Armazenar os dados referente a variavel \"mass_kg\"\n",
        "        PayloadMass.append(response['mass_kg'])\n",
        "\n",
        "        # Armazenar os dados referente a variavel \"orbit\"\n",
        "        Orbit.append(response['orbit'])"
      ],
      "metadata": {
        "id": "5IDgupRom7jO"
      },
      "execution_count": 79,
      "outputs": []
    },
    {
      "cell_type": "markdown",
      "source": [
        "### Na coluna ``launchpad`` saber o nome do local de lançamento que está sendo usado, a latitude e a longitude."
      ],
      "metadata": {
        "id": "cIEQmBtsnw0X"
      }
    },
    {
      "cell_type": "code",
      "source": [
        "# Pega o conjunto de dados e usa a coluna do launchpad para chamar a API e anexar os dados à lista\n",
        "def getLaunchSite(data):\n",
        "    for x in data['launchpad']:\n",
        "\n",
        "        # Solicitação a API\n",
        "        response = requests.get(\"https://api.spacexdata.com/v4/launchpads/\"+str(x)).json()\n",
        "\n",
        "        # Armazenar os dados referente a variavel \"longitude\"\n",
        "        Longitude.append(response['longitude'])\n",
        "\n",
        "        # Armazenar os dados referente a variavel \"latitude\"\n",
        "        Latitude.append(response['latitude'])\n",
        "\n",
        "        # Armazenar os dados referente a variavel \"name\"\n",
        "        LaunchSite.append(response['name'])"
      ],
      "metadata": {
        "id": "GxQWW1hwnmCM"
      },
      "execution_count": 80,
      "outputs": []
    },
    {
      "cell_type": "markdown",
      "source": [
        "### Na coluna ``cores`` saber o resultado do pouso, o tipo de pouso, o número de voos com aquele núcleo, se foram usadas aletas de grade, se o núcleo foi reutilizado, se foram usadas landing, a plataforma de pouso usada, o bloco do núcleo, que é um número usado para separar versões de núcleos, o número de vezes que esse núcleo específico foi reutilizado e o número de série do núcleo."
      ],
      "metadata": {
        "id": "WmlIMqa3oznK"
      }
    },
    {
      "cell_type": "code",
      "source": [
        "# Pega o conjunto de dados e usa a coluna núcleos para chamar a API e anexar os dados às listas\n",
        "def getCoreData(data):\n",
        "    for core in data['cores']:\n",
        "            if core['core'] != None:\n",
        "\n",
        "                # Solicitação a API\n",
        "                response = requests.get(\"https://api.spacexdata.com/v4/cores/\"+core['core']).json()\n",
        "\n",
        "                # Armazenar os dados referente a variavel \"block\"\n",
        "                Block.append(response['block'])\n",
        "\n",
        "                # Armazenar os dados referente a variavel \"reuse_count\"\n",
        "                ReusedCount.append(response['reuse_count'])\n",
        "\n",
        "                # Armazenar os dados referente a variavel \"serial\"\n",
        "                Serial.append(response['serial'])\n",
        "            else:\n",
        "\n",
        "                # Inserir 'None' para incosistencia ou nulos\n",
        "                Block.append(None)\n",
        "                ReusedCount.append(None)\n",
        "                Serial.append(None)\n",
        "\n",
        "            # Armazenar os dados referente a variavel \"landing_success\" e \"landing_type\"\n",
        "            Outcome.append(str(core['landing_success'])+' '+str(core['landing_type']))\n",
        "\n",
        "            # Armazenar os dados referente a variavel \"flight\"\n",
        "            Flights.append(core['flight'])\n",
        "\n",
        "            # Armazenar os dados referente a variavel \"gridfins\"\n",
        "            GridFins.append(core['gridfins'])\n",
        "\n",
        "            # Armazenar os dados referente a variavel \"reused\"\n",
        "            Reused.append(core['reused'])\n",
        "\n",
        "            # Armazenar os dados referente a variavel \"legs\"\n",
        "            Legs.append(core['legs'])\n",
        "\n",
        "            # Armazenar os dados referente a variavel \"landpad\"\n",
        "            LandingPad.append(core['landpad'])"
      ],
      "metadata": {
        "id": "2E3cqwiHo0Bw"
      },
      "execution_count": 81,
      "outputs": []
    },
    {
      "cell_type": "markdown",
      "source": [
        "Os dados provenientes das solicitações realizadas pelas funções que forá definidas anteriormente, serão armazenados em listas, e serão usados ​​para criar um novo dataframe."
      ],
      "metadata": {
        "id": "gbhFszLo0trC"
      }
    },
    {
      "cell_type": "code",
      "source": [
        "# Lista para armazenar os dados da função \"getBoosterVersion()\"\n",
        "BoosterVersion = []\n",
        "\n",
        "# Aplicando a função já definida\n",
        "getBoosterVersion(data)"
      ],
      "metadata": {
        "id": "4CKmK8BRD-7B"
      },
      "execution_count": 82,
      "outputs": []
    },
    {
      "cell_type": "code",
      "source": [
        "# Lista para armazenar os dados da função \"getPayloadData()\"\n",
        "PayloadMass = []\n",
        "Orbit = []\n",
        "\n",
        "# Aplicando a função já definida\n",
        "getPayloadData(data)"
      ],
      "metadata": {
        "id": "OTz9gr56_tfz"
      },
      "execution_count": 83,
      "outputs": []
    },
    {
      "cell_type": "code",
      "source": [
        "# Lista para armazenar os dados da função \"getLaunchSite()\"\n",
        "Longitude = []\n",
        "Latitude = []\n",
        "LaunchSite = []\n",
        "\n",
        "# Aplicando a função já definida\n",
        "getLaunchSite(data)"
      ],
      "metadata": {
        "id": "XNfwFQ5g_34O"
      },
      "execution_count": 84,
      "outputs": []
    },
    {
      "cell_type": "code",
      "source": [
        "# Lista para armazenar os dados da função \"getCoreData()\"\n",
        "Block = []\n",
        "ReusedCount = []\n",
        "Serial = []\n",
        "Outcome = []\n",
        "Flights = []\n",
        "GridFins = []\n",
        "Reused = []\n",
        "Legs = []\n",
        "LandingPad = []\n",
        "\n",
        "# Aplicando a função já definida\n",
        "getCoreData(data)"
      ],
      "metadata": {
        "id": "eiZr1Nf5__W5"
      },
      "execution_count": 85,
      "outputs": []
    },
    {
      "cell_type": "markdown",
      "source": [
        "Neste momento, ja se pode construir o conjunto de dados, com as extrações realizadas nas APIs"
      ],
      "metadata": {
        "id": "RW-cf2IuAtDa"
      }
    },
    {
      "cell_type": "code",
      "source": [
        "# Dicionario que irá ser tranformado, a partir das listas, um dataframe\n",
        "launch_dict = {'FlightNumber': list(data['flight_number']),\n",
        "'Date': list(data['date']),\n",
        "'BoosterVersion':BoosterVersion,\n",
        "'PayloadMass':PayloadMass,\n",
        "'Orbit':Orbit,\n",
        "'LaunchSite':LaunchSite,\n",
        "'Outcome':Outcome,\n",
        "'Flights':Flights,\n",
        "'GridFins':GridFins,\n",
        "'Reused':Reused,\n",
        "'Legs':Legs,\n",
        "'LandingPad':LandingPad,\n",
        "'Block':Block,\n",
        "'ReusedCount':ReusedCount,\n",
        "'Serial':Serial,\n",
        "'Longitude': Longitude,\n",
        "'Latitude': Latitude}"
      ],
      "metadata": {
        "id": "eos9tfKaAsJZ"
      },
      "execution_count": 86,
      "outputs": []
    },
    {
      "cell_type": "code",
      "source": [
        "df_spacex = pd.DataFrame.from_dict(launch_dict)"
      ],
      "metadata": {
        "id": "r5kbRHWGBao5"
      },
      "execution_count": 87,
      "outputs": []
    },
    {
      "cell_type": "markdown",
      "source": [
        "### Salvando o dataframe com os dados brutos de todos os foguetes em um arquivo \"CSV\""
      ],
      "metadata": {
        "id": "04ZG21TXPAjB"
      }
    },
    {
      "cell_type": "code",
      "source": [
        "df_spacex.to_csv(\"DbApi_bruto_scapcex.csv\",\n",
        "                 index_label=False,\n",
        "                 index=False)"
      ],
      "metadata": {
        "id": "E4J94l8UPLdg"
      },
      "execution_count": 88,
      "outputs": []
    },
    {
      "cell_type": "code",
      "source": [
        "df_spacex.info()"
      ],
      "metadata": {
        "colab": {
          "base_uri": "https://localhost:8080/"
        },
        "id": "mEr23B6lOb2w",
        "outputId": "72427de2-1b93-4afa-e58c-34da45a96a0b"
      },
      "execution_count": 89,
      "outputs": [
        {
          "output_type": "stream",
          "name": "stdout",
          "text": [
            "<class 'pandas.core.frame.DataFrame'>\n",
            "RangeIndex: 94 entries, 0 to 93\n",
            "Data columns (total 17 columns):\n",
            " #   Column          Non-Null Count  Dtype  \n",
            "---  ------          --------------  -----  \n",
            " 0   FlightNumber    94 non-null     int64  \n",
            " 1   Date            94 non-null     object \n",
            " 2   BoosterVersion  94 non-null     object \n",
            " 3   PayloadMass     88 non-null     float64\n",
            " 4   Orbit           94 non-null     object \n",
            " 5   LaunchSite      94 non-null     object \n",
            " 6   Outcome         94 non-null     object \n",
            " 7   Flights         94 non-null     int64  \n",
            " 8   GridFins        94 non-null     bool   \n",
            " 9   Reused          94 non-null     bool   \n",
            " 10  Legs            94 non-null     bool   \n",
            " 11  LandingPad      64 non-null     object \n",
            " 12  Block           90 non-null     float64\n",
            " 13  ReusedCount     94 non-null     int64  \n",
            " 14  Serial          94 non-null     object \n",
            " 15  Longitude       94 non-null     float64\n",
            " 16  Latitude        94 non-null     float64\n",
            "dtypes: bool(3), float64(4), int64(3), object(7)\n",
            "memory usage: 10.7+ KB\n"
          ]
        }
      ]
    },
    {
      "cell_type": "code",
      "source": [
        "df_spacex.head()"
      ],
      "metadata": {
        "colab": {
          "base_uri": "https://localhost:8080/",
          "height": 313
        },
        "id": "nniNYDxvBo1Y",
        "outputId": "230e14ab-dcb6-4f82-c174-e08c43d200d0"
      },
      "execution_count": 90,
      "outputs": [
        {
          "output_type": "execute_result",
          "data": {
            "text/plain": [
              "   FlightNumber        Date BoosterVersion  PayloadMass Orbit  \\\n",
              "0             1  2006-03-24       Falcon 1         20.0   LEO   \n",
              "1             2  2007-03-21       Falcon 1          NaN   LEO   \n",
              "2             4  2008-09-28       Falcon 1        165.0   LEO   \n",
              "3             5  2009-07-13       Falcon 1        200.0   LEO   \n",
              "4             6  2010-06-04       Falcon 9          NaN   LEO   \n",
              "\n",
              "        LaunchSite    Outcome  Flights  GridFins  Reused   Legs LandingPad  \\\n",
              "0  Kwajalein Atoll  None None        1     False   False  False       None   \n",
              "1  Kwajalein Atoll  None None        1     False   False  False       None   \n",
              "2  Kwajalein Atoll  None None        1     False   False  False       None   \n",
              "3  Kwajalein Atoll  None None        1     False   False  False       None   \n",
              "4     CCSFS SLC 40  None None        1     False   False  False       None   \n",
              "\n",
              "   Block  ReusedCount    Serial   Longitude   Latitude  \n",
              "0    NaN            0  Merlin1A  167.743129   9.047721  \n",
              "1    NaN            0  Merlin2A  167.743129   9.047721  \n",
              "2    NaN            0  Merlin2C  167.743129   9.047721  \n",
              "3    NaN            0  Merlin3C  167.743129   9.047721  \n",
              "4    1.0            0     B0003  -80.577366  28.561857  "
            ],
            "text/html": [
              "\n",
              "  <div id=\"df-df1d94db-c9b3-4be5-83f5-de2aeba594cd\" class=\"colab-df-container\">\n",
              "    <div>\n",
              "<style scoped>\n",
              "    .dataframe tbody tr th:only-of-type {\n",
              "        vertical-align: middle;\n",
              "    }\n",
              "\n",
              "    .dataframe tbody tr th {\n",
              "        vertical-align: top;\n",
              "    }\n",
              "\n",
              "    .dataframe thead th {\n",
              "        text-align: right;\n",
              "    }\n",
              "</style>\n",
              "<table border=\"1\" class=\"dataframe\">\n",
              "  <thead>\n",
              "    <tr style=\"text-align: right;\">\n",
              "      <th></th>\n",
              "      <th>FlightNumber</th>\n",
              "      <th>Date</th>\n",
              "      <th>BoosterVersion</th>\n",
              "      <th>PayloadMass</th>\n",
              "      <th>Orbit</th>\n",
              "      <th>LaunchSite</th>\n",
              "      <th>Outcome</th>\n",
              "      <th>Flights</th>\n",
              "      <th>GridFins</th>\n",
              "      <th>Reused</th>\n",
              "      <th>Legs</th>\n",
              "      <th>LandingPad</th>\n",
              "      <th>Block</th>\n",
              "      <th>ReusedCount</th>\n",
              "      <th>Serial</th>\n",
              "      <th>Longitude</th>\n",
              "      <th>Latitude</th>\n",
              "    </tr>\n",
              "  </thead>\n",
              "  <tbody>\n",
              "    <tr>\n",
              "      <th>0</th>\n",
              "      <td>1</td>\n",
              "      <td>2006-03-24</td>\n",
              "      <td>Falcon 1</td>\n",
              "      <td>20.0</td>\n",
              "      <td>LEO</td>\n",
              "      <td>Kwajalein Atoll</td>\n",
              "      <td>None None</td>\n",
              "      <td>1</td>\n",
              "      <td>False</td>\n",
              "      <td>False</td>\n",
              "      <td>False</td>\n",
              "      <td>None</td>\n",
              "      <td>NaN</td>\n",
              "      <td>0</td>\n",
              "      <td>Merlin1A</td>\n",
              "      <td>167.743129</td>\n",
              "      <td>9.047721</td>\n",
              "    </tr>\n",
              "    <tr>\n",
              "      <th>1</th>\n",
              "      <td>2</td>\n",
              "      <td>2007-03-21</td>\n",
              "      <td>Falcon 1</td>\n",
              "      <td>NaN</td>\n",
              "      <td>LEO</td>\n",
              "      <td>Kwajalein Atoll</td>\n",
              "      <td>None None</td>\n",
              "      <td>1</td>\n",
              "      <td>False</td>\n",
              "      <td>False</td>\n",
              "      <td>False</td>\n",
              "      <td>None</td>\n",
              "      <td>NaN</td>\n",
              "      <td>0</td>\n",
              "      <td>Merlin2A</td>\n",
              "      <td>167.743129</td>\n",
              "      <td>9.047721</td>\n",
              "    </tr>\n",
              "    <tr>\n",
              "      <th>2</th>\n",
              "      <td>4</td>\n",
              "      <td>2008-09-28</td>\n",
              "      <td>Falcon 1</td>\n",
              "      <td>165.0</td>\n",
              "      <td>LEO</td>\n",
              "      <td>Kwajalein Atoll</td>\n",
              "      <td>None None</td>\n",
              "      <td>1</td>\n",
              "      <td>False</td>\n",
              "      <td>False</td>\n",
              "      <td>False</td>\n",
              "      <td>None</td>\n",
              "      <td>NaN</td>\n",
              "      <td>0</td>\n",
              "      <td>Merlin2C</td>\n",
              "      <td>167.743129</td>\n",
              "      <td>9.047721</td>\n",
              "    </tr>\n",
              "    <tr>\n",
              "      <th>3</th>\n",
              "      <td>5</td>\n",
              "      <td>2009-07-13</td>\n",
              "      <td>Falcon 1</td>\n",
              "      <td>200.0</td>\n",
              "      <td>LEO</td>\n",
              "      <td>Kwajalein Atoll</td>\n",
              "      <td>None None</td>\n",
              "      <td>1</td>\n",
              "      <td>False</td>\n",
              "      <td>False</td>\n",
              "      <td>False</td>\n",
              "      <td>None</td>\n",
              "      <td>NaN</td>\n",
              "      <td>0</td>\n",
              "      <td>Merlin3C</td>\n",
              "      <td>167.743129</td>\n",
              "      <td>9.047721</td>\n",
              "    </tr>\n",
              "    <tr>\n",
              "      <th>4</th>\n",
              "      <td>6</td>\n",
              "      <td>2010-06-04</td>\n",
              "      <td>Falcon 9</td>\n",
              "      <td>NaN</td>\n",
              "      <td>LEO</td>\n",
              "      <td>CCSFS SLC 40</td>\n",
              "      <td>None None</td>\n",
              "      <td>1</td>\n",
              "      <td>False</td>\n",
              "      <td>False</td>\n",
              "      <td>False</td>\n",
              "      <td>None</td>\n",
              "      <td>1.0</td>\n",
              "      <td>0</td>\n",
              "      <td>B0003</td>\n",
              "      <td>-80.577366</td>\n",
              "      <td>28.561857</td>\n",
              "    </tr>\n",
              "  </tbody>\n",
              "</table>\n",
              "</div>\n",
              "    <div class=\"colab-df-buttons\">\n",
              "\n",
              "  <div class=\"colab-df-container\">\n",
              "    <button class=\"colab-df-convert\" onclick=\"convertToInteractive('df-df1d94db-c9b3-4be5-83f5-de2aeba594cd')\"\n",
              "            title=\"Convert this dataframe to an interactive table.\"\n",
              "            style=\"display:none;\">\n",
              "\n",
              "  <svg xmlns=\"http://www.w3.org/2000/svg\" height=\"24px\" viewBox=\"0 -960 960 960\">\n",
              "    <path d=\"M120-120v-720h720v720H120Zm60-500h600v-160H180v160Zm220 220h160v-160H400v160Zm0 220h160v-160H400v160ZM180-400h160v-160H180v160Zm440 0h160v-160H620v160ZM180-180h160v-160H180v160Zm440 0h160v-160H620v160Z\"/>\n",
              "  </svg>\n",
              "    </button>\n",
              "\n",
              "  <style>\n",
              "    .colab-df-container {\n",
              "      display:flex;\n",
              "      gap: 12px;\n",
              "    }\n",
              "\n",
              "    .colab-df-convert {\n",
              "      background-color: #E8F0FE;\n",
              "      border: none;\n",
              "      border-radius: 50%;\n",
              "      cursor: pointer;\n",
              "      display: none;\n",
              "      fill: #1967D2;\n",
              "      height: 32px;\n",
              "      padding: 0 0 0 0;\n",
              "      width: 32px;\n",
              "    }\n",
              "\n",
              "    .colab-df-convert:hover {\n",
              "      background-color: #E2EBFA;\n",
              "      box-shadow: 0px 1px 2px rgba(60, 64, 67, 0.3), 0px 1px 3px 1px rgba(60, 64, 67, 0.15);\n",
              "      fill: #174EA6;\n",
              "    }\n",
              "\n",
              "    .colab-df-buttons div {\n",
              "      margin-bottom: 4px;\n",
              "    }\n",
              "\n",
              "    [theme=dark] .colab-df-convert {\n",
              "      background-color: #3B4455;\n",
              "      fill: #D2E3FC;\n",
              "    }\n",
              "\n",
              "    [theme=dark] .colab-df-convert:hover {\n",
              "      background-color: #434B5C;\n",
              "      box-shadow: 0px 1px 3px 1px rgba(0, 0, 0, 0.15);\n",
              "      filter: drop-shadow(0px 1px 2px rgba(0, 0, 0, 0.3));\n",
              "      fill: #FFFFFF;\n",
              "    }\n",
              "  </style>\n",
              "\n",
              "    <script>\n",
              "      const buttonEl =\n",
              "        document.querySelector('#df-df1d94db-c9b3-4be5-83f5-de2aeba594cd button.colab-df-convert');\n",
              "      buttonEl.style.display =\n",
              "        google.colab.kernel.accessAllowed ? 'block' : 'none';\n",
              "\n",
              "      async function convertToInteractive(key) {\n",
              "        const element = document.querySelector('#df-df1d94db-c9b3-4be5-83f5-de2aeba594cd');\n",
              "        const dataTable =\n",
              "          await google.colab.kernel.invokeFunction('convertToInteractive',\n",
              "                                                    [key], {});\n",
              "        if (!dataTable) return;\n",
              "\n",
              "        const docLinkHtml = 'Like what you see? Visit the ' +\n",
              "          '<a target=\"_blank\" href=https://colab.research.google.com/notebooks/data_table.ipynb>data table notebook</a>'\n",
              "          + ' to learn more about interactive tables.';\n",
              "        element.innerHTML = '';\n",
              "        dataTable['output_type'] = 'display_data';\n",
              "        await google.colab.output.renderOutput(dataTable, element);\n",
              "        const docLink = document.createElement('div');\n",
              "        docLink.innerHTML = docLinkHtml;\n",
              "        element.appendChild(docLink);\n",
              "      }\n",
              "    </script>\n",
              "  </div>\n",
              "\n",
              "\n",
              "<div id=\"df-e0d023d9-aceb-4ac2-844e-cfca971fb390\">\n",
              "  <button class=\"colab-df-quickchart\" onclick=\"quickchart('df-e0d023d9-aceb-4ac2-844e-cfca971fb390')\"\n",
              "            title=\"Suggest charts\"\n",
              "            style=\"display:none;\">\n",
              "\n",
              "<svg xmlns=\"http://www.w3.org/2000/svg\" height=\"24px\"viewBox=\"0 0 24 24\"\n",
              "     width=\"24px\">\n",
              "    <g>\n",
              "        <path d=\"M19 3H5c-1.1 0-2 .9-2 2v14c0 1.1.9 2 2 2h14c1.1 0 2-.9 2-2V5c0-1.1-.9-2-2-2zM9 17H7v-7h2v7zm4 0h-2V7h2v10zm4 0h-2v-4h2v4z\"/>\n",
              "    </g>\n",
              "</svg>\n",
              "  </button>\n",
              "\n",
              "<style>\n",
              "  .colab-df-quickchart {\n",
              "      --bg-color: #E8F0FE;\n",
              "      --fill-color: #1967D2;\n",
              "      --hover-bg-color: #E2EBFA;\n",
              "      --hover-fill-color: #174EA6;\n",
              "      --disabled-fill-color: #AAA;\n",
              "      --disabled-bg-color: #DDD;\n",
              "  }\n",
              "\n",
              "  [theme=dark] .colab-df-quickchart {\n",
              "      --bg-color: #3B4455;\n",
              "      --fill-color: #D2E3FC;\n",
              "      --hover-bg-color: #434B5C;\n",
              "      --hover-fill-color: #FFFFFF;\n",
              "      --disabled-bg-color: #3B4455;\n",
              "      --disabled-fill-color: #666;\n",
              "  }\n",
              "\n",
              "  .colab-df-quickchart {\n",
              "    background-color: var(--bg-color);\n",
              "    border: none;\n",
              "    border-radius: 50%;\n",
              "    cursor: pointer;\n",
              "    display: none;\n",
              "    fill: var(--fill-color);\n",
              "    height: 32px;\n",
              "    padding: 0;\n",
              "    width: 32px;\n",
              "  }\n",
              "\n",
              "  .colab-df-quickchart:hover {\n",
              "    background-color: var(--hover-bg-color);\n",
              "    box-shadow: 0 1px 2px rgba(60, 64, 67, 0.3), 0 1px 3px 1px rgba(60, 64, 67, 0.15);\n",
              "    fill: var(--button-hover-fill-color);\n",
              "  }\n",
              "\n",
              "  .colab-df-quickchart-complete:disabled,\n",
              "  .colab-df-quickchart-complete:disabled:hover {\n",
              "    background-color: var(--disabled-bg-color);\n",
              "    fill: var(--disabled-fill-color);\n",
              "    box-shadow: none;\n",
              "  }\n",
              "\n",
              "  .colab-df-spinner {\n",
              "    border: 2px solid var(--fill-color);\n",
              "    border-color: transparent;\n",
              "    border-bottom-color: var(--fill-color);\n",
              "    animation:\n",
              "      spin 1s steps(1) infinite;\n",
              "  }\n",
              "\n",
              "  @keyframes spin {\n",
              "    0% {\n",
              "      border-color: transparent;\n",
              "      border-bottom-color: var(--fill-color);\n",
              "      border-left-color: var(--fill-color);\n",
              "    }\n",
              "    20% {\n",
              "      border-color: transparent;\n",
              "      border-left-color: var(--fill-color);\n",
              "      border-top-color: var(--fill-color);\n",
              "    }\n",
              "    30% {\n",
              "      border-color: transparent;\n",
              "      border-left-color: var(--fill-color);\n",
              "      border-top-color: var(--fill-color);\n",
              "      border-right-color: var(--fill-color);\n",
              "    }\n",
              "    40% {\n",
              "      border-color: transparent;\n",
              "      border-right-color: var(--fill-color);\n",
              "      border-top-color: var(--fill-color);\n",
              "    }\n",
              "    60% {\n",
              "      border-color: transparent;\n",
              "      border-right-color: var(--fill-color);\n",
              "    }\n",
              "    80% {\n",
              "      border-color: transparent;\n",
              "      border-right-color: var(--fill-color);\n",
              "      border-bottom-color: var(--fill-color);\n",
              "    }\n",
              "    90% {\n",
              "      border-color: transparent;\n",
              "      border-bottom-color: var(--fill-color);\n",
              "    }\n",
              "  }\n",
              "</style>\n",
              "\n",
              "  <script>\n",
              "    async function quickchart(key) {\n",
              "      const quickchartButtonEl =\n",
              "        document.querySelector('#' + key + ' button');\n",
              "      quickchartButtonEl.disabled = true;  // To prevent multiple clicks.\n",
              "      quickchartButtonEl.classList.add('colab-df-spinner');\n",
              "      try {\n",
              "        const charts = await google.colab.kernel.invokeFunction(\n",
              "            'suggestCharts', [key], {});\n",
              "      } catch (error) {\n",
              "        console.error('Error during call to suggestCharts:', error);\n",
              "      }\n",
              "      quickchartButtonEl.classList.remove('colab-df-spinner');\n",
              "      quickchartButtonEl.classList.add('colab-df-quickchart-complete');\n",
              "    }\n",
              "    (() => {\n",
              "      let quickchartButtonEl =\n",
              "        document.querySelector('#df-e0d023d9-aceb-4ac2-844e-cfca971fb390 button');\n",
              "      quickchartButtonEl.style.display =\n",
              "        google.colab.kernel.accessAllowed ? 'block' : 'none';\n",
              "    })();\n",
              "  </script>\n",
              "</div>\n",
              "\n",
              "    </div>\n",
              "  </div>\n"
            ],
            "application/vnd.google.colaboratory.intrinsic+json": {
              "type": "dataframe",
              "variable_name": "df_spacex",
              "summary": "{\n  \"name\": \"df_spacex\",\n  \"rows\": 94,\n  \"fields\": [\n    {\n      \"column\": \"FlightNumber\",\n      \"properties\": {\n        \"dtype\": \"number\",\n        \"std\": 30,\n        \"min\": 1,\n        \"max\": 106,\n        \"num_unique_values\": 94,\n        \"samples\": [\n          46,\n          27,\n          64\n        ],\n        \"semantic_type\": \"\",\n        \"description\": \"\"\n      }\n    },\n    {\n      \"column\": \"Date\",\n      \"properties\": {\n        \"dtype\": \"date\",\n        \"min\": \"2006-03-24\",\n        \"max\": \"2020-11-05\",\n        \"num_unique_values\": 94,\n        \"samples\": [\n          \"2017-08-24\",\n          \"2016-03-04\",\n          \"2018-06-29\"\n        ],\n        \"semantic_type\": \"\",\n        \"description\": \"\"\n      }\n    },\n    {\n      \"column\": \"BoosterVersion\",\n      \"properties\": {\n        \"dtype\": \"category\",\n        \"num_unique_values\": 2,\n        \"samples\": [\n          \"Falcon 9\",\n          \"Falcon 1\"\n        ],\n        \"semantic_type\": \"\",\n        \"description\": \"\"\n      }\n    },\n    {\n      \"column\": \"PayloadMass\",\n      \"properties\": {\n        \"dtype\": \"number\",\n        \"std\": 4909.689574903603,\n        \"min\": 20.0,\n        \"max\": 15600.0,\n        \"num_unique_values\": 70,\n        \"samples\": [\n          4696.0,\n          20.0\n        ],\n        \"semantic_type\": \"\",\n        \"description\": \"\"\n      }\n    },\n    {\n      \"column\": \"Orbit\",\n      \"properties\": {\n        \"dtype\": \"category\",\n        \"num_unique_values\": 11,\n        \"samples\": [\n          \"SSO\",\n          \"LEO\"\n        ],\n        \"semantic_type\": \"\",\n        \"description\": \"\"\n      }\n    },\n    {\n      \"column\": \"LaunchSite\",\n      \"properties\": {\n        \"dtype\": \"category\",\n        \"num_unique_values\": 4,\n        \"samples\": [\n          \"CCSFS SLC 40\",\n          \"KSC LC 39A\"\n        ],\n        \"semantic_type\": \"\",\n        \"description\": \"\"\n      }\n    },\n    {\n      \"column\": \"Outcome\",\n      \"properties\": {\n        \"dtype\": \"category\",\n        \"num_unique_values\": 8,\n        \"samples\": [\n          \"False Ocean\",\n          \"True RTLS\"\n        ],\n        \"semantic_type\": \"\",\n        \"description\": \"\"\n      }\n    },\n    {\n      \"column\": \"Flights\",\n      \"properties\": {\n        \"dtype\": \"number\",\n        \"std\": 1,\n        \"min\": 1,\n        \"max\": 6,\n        \"num_unique_values\": 6,\n        \"samples\": [\n          1,\n          2\n        ],\n        \"semantic_type\": \"\",\n        \"description\": \"\"\n      }\n    },\n    {\n      \"column\": \"GridFins\",\n      \"properties\": {\n        \"dtype\": \"boolean\",\n        \"num_unique_values\": 2,\n        \"samples\": [\n          true,\n          false\n        ],\n        \"semantic_type\": \"\",\n        \"description\": \"\"\n      }\n    },\n    {\n      \"column\": \"Reused\",\n      \"properties\": {\n        \"dtype\": \"boolean\",\n        \"num_unique_values\": 2,\n        \"samples\": [\n          true,\n          false\n        ],\n        \"semantic_type\": \"\",\n        \"description\": \"\"\n      }\n    },\n    {\n      \"column\": \"Legs\",\n      \"properties\": {\n        \"dtype\": \"boolean\",\n        \"num_unique_values\": 2,\n        \"samples\": [\n          true,\n          false\n        ],\n        \"semantic_type\": \"\",\n        \"description\": \"\"\n      }\n    },\n    {\n      \"column\": \"LandingPad\",\n      \"properties\": {\n        \"dtype\": \"category\",\n        \"num_unique_values\": 5,\n        \"samples\": [\n          \"5e9e3032383ecb6bb234e7ca\",\n          \"5e9e3032383ecb554034e7c9\"\n        ],\n        \"semantic_type\": \"\",\n        \"description\": \"\"\n      }\n    },\n    {\n      \"column\": \"Block\",\n      \"properties\": {\n        \"dtype\": \"number\",\n        \"std\": 1.5952880054161753,\n        \"min\": 1.0,\n        \"max\": 5.0,\n        \"num_unique_values\": 5,\n        \"samples\": [\n          2.0,\n          5.0\n        ],\n        \"semantic_type\": \"\",\n        \"description\": \"\"\n      }\n    },\n    {\n      \"column\": \"ReusedCount\",\n      \"properties\": {\n        \"dtype\": \"number\",\n        \"std\": 4,\n        \"min\": 0,\n        \"max\": 13,\n        \"num_unique_values\": 10,\n        \"samples\": [\n          13,\n          1\n        ],\n        \"semantic_type\": \"\",\n        \"description\": \"\"\n      }\n    },\n    {\n      \"column\": \"Serial\",\n      \"properties\": {\n        \"dtype\": \"string\",\n        \"num_unique_values\": 57,\n        \"samples\": [\n          \"Merlin1A\",\n          \"B0005\"\n        ],\n        \"semantic_type\": \"\",\n        \"description\": \"\"\n      }\n    },\n    {\n      \"column\": \"Longitude\",\n      \"properties\": {\n        \"dtype\": \"number\",\n        \"std\": 53.39187956089532,\n        \"min\": -120.610829,\n        \"max\": 167.7431292,\n        \"num_unique_values\": 4,\n        \"samples\": [\n          -80.577366,\n          -80.6039558\n        ],\n        \"semantic_type\": \"\",\n        \"description\": \"\"\n      }\n    },\n    {\n      \"column\": \"Latitude\",\n      \"properties\": {\n        \"dtype\": \"number\",\n        \"std\": 4.6399813053032295,\n        \"min\": 9.0477206,\n        \"max\": 34.632093,\n        \"num_unique_values\": 4,\n        \"samples\": [\n          28.5618571,\n          28.6080585\n        ],\n        \"semantic_type\": \"\",\n        \"description\": \"\"\n      }\n    }\n  ]\n}"
            }
          },
          "metadata": {},
          "execution_count": 90
        }
      ]
    },
    {
      "cell_type": "markdown",
      "source": [
        "### Filtrando o dataframe para incluir apenas os lançamentos do foguet Falcon 9"
      ],
      "metadata": {
        "id": "5rLmCwzBOr5R"
      }
    },
    {
      "cell_type": "code",
      "source": [
        "df_falcon9 = df_spacex.loc[df_spacex['BoosterVersion'] == \"Falcon 9\"]\n",
        "df_falcon9.info()"
      ],
      "metadata": {
        "colab": {
          "base_uri": "https://localhost:8080/"
        },
        "collapsed": true,
        "id": "JU19azPyD00A",
        "outputId": "f7f3946f-e8b4-4b73-a3a6-bc8a39743db8"
      },
      "execution_count": 91,
      "outputs": [
        {
          "output_type": "stream",
          "name": "stdout",
          "text": [
            "<class 'pandas.core.frame.DataFrame'>\n",
            "Index: 90 entries, 4 to 93\n",
            "Data columns (total 17 columns):\n",
            " #   Column          Non-Null Count  Dtype  \n",
            "---  ------          --------------  -----  \n",
            " 0   FlightNumber    90 non-null     int64  \n",
            " 1   Date            90 non-null     object \n",
            " 2   BoosterVersion  90 non-null     object \n",
            " 3   PayloadMass     85 non-null     float64\n",
            " 4   Orbit           90 non-null     object \n",
            " 5   LaunchSite      90 non-null     object \n",
            " 6   Outcome         90 non-null     object \n",
            " 7   Flights         90 non-null     int64  \n",
            " 8   GridFins        90 non-null     bool   \n",
            " 9   Reused          90 non-null     bool   \n",
            " 10  Legs            90 non-null     bool   \n",
            " 11  LandingPad      64 non-null     object \n",
            " 12  Block           90 non-null     float64\n",
            " 13  ReusedCount     90 non-null     int64  \n",
            " 14  Serial          90 non-null     object \n",
            " 15  Longitude       90 non-null     float64\n",
            " 16  Latitude        90 non-null     float64\n",
            "dtypes: bool(3), float64(4), int64(3), object(7)\n",
            "memory usage: 10.8+ KB\n"
          ]
        }
      ]
    },
    {
      "cell_type": "code",
      "source": [
        "#df_falcon9 = df_spacex.loc[df_spacex['BoosterVersion']!=\"Falcon 1\"]\n",
        "#df_falcon9.info()"
      ],
      "metadata": {
        "id": "HQ2M0VXOOsyW"
      },
      "execution_count": 92,
      "outputs": []
    },
    {
      "cell_type": "markdown",
      "source": [
        "Como os numeros de voos, coluna ``FlightNumber`` representam somente uma posição de um ordenamento, deve se reformatar a coluna para que os posicionamentos sejam reorganizados, uma vez que, algumas linhas foram removidas no processo de filtragem"
      ],
      "metadata": {
        "id": "y85_ZWkHYGap"
      }
    },
    {
      "cell_type": "markdown",
      "source": [
        "### Agora que foram removidos alguns valores por conta do processo anterior, devemos redefinir a coluna ``FlightNumber``"
      ],
      "metadata": {
        "id": "b3Sqk4k8XR7-"
      }
    },
    {
      "cell_type": "code",
      "source": [
        "df_falcon9.loc[:,'FlightNumber'] = list(range(1, df_falcon9.shape[0]+1))"
      ],
      "metadata": {
        "id": "E1hhxOtiXSOs"
      },
      "execution_count": 93,
      "outputs": []
    },
    {
      "cell_type": "markdown",
      "source": [
        "### Salvando o novo dataframe com apenas dados brutos referente ao foguete falcon 9 em um arquivo \"CSV\""
      ],
      "metadata": {
        "id": "BaUQ8OhxTf2Z"
      }
    },
    {
      "cell_type": "code",
      "source": [
        "df_falcon9.to_csv(\"DbApi_bruto_falcon_09.csv\",\n",
        "                 index_label=False,\n",
        "                 index=False)"
      ],
      "metadata": {
        "id": "mnbBjsTeTUm9"
      },
      "execution_count": 94,
      "outputs": []
    },
    {
      "cell_type": "markdown",
      "source": [
        "Se faz necessario aplicar tecnicas para data wrangling nos dados brutos, e este é o processo de transformar e estruturar dados, para torná-los mais consumíveis e úteis para analytics ou machine learnin"
      ],
      "metadata": {
        "id": "xipI0CStGIvH"
      }
    }
  ]
}